{
  "cells": [
    {
      "cell_type": "markdown",
      "metadata": {
        "id": "jvoFwHRo5ftu"
      },
      "source": [
        "# 일급함수와 고차함수"
      ]
    },
    {
      "cell_type": "code",
      "execution_count": null,
      "metadata": {
        "colab": {
          "base_uri": "https://localhost:8080/"
        },
        "id": "kQtVmjSs5cEB",
        "outputId": "e653bdfa-dc65-45ea-d02a-9bc9bcf43dea"
      },
      "outputs": [
        {
          "name": "stdout",
          "output_type": "stream",
          "text": [
            "냐옹\n"
          ]
        }
      ],
      "source": [
        "class Cat:\n",
        "    def sound(self):\n",
        "        print('냐옹')\n",
        "\n",
        "licat = Cat()\n",
        "licat_sound = licat.sound\n",
        "licat_sound()"
      ]
    },
    {
      "cell_type": "code",
      "execution_count": null,
      "metadata": {
        "colab": {
          "base_uri": "https://localhost:8080/"
        },
        "id": "2D61CoEE7Nrx",
        "outputId": "1f293d0a-8514-4097-c6ef-da7cb84ebd8c"
      },
      "outputs": [
        {
          "data": {
            "text/plain": [
              "[10, 20, 30, 40]"
            ]
          },
          "execution_count": 197,
          "metadata": {},
          "output_type": "execute_result"
        }
      ],
      "source": [
        "l = [10, 20, 30]\n",
        "la = l.append\n",
        "la(40) # l.append\n",
        "l"
      ]
    },
    {
      "cell_type": "code",
      "execution_count": null,
      "metadata": {
        "id": "VPwm8ztG8ris"
      },
      "outputs": [],
      "source": [
        "def add(x,y):\n",
        "    return x+y"
      ]
    },
    {
      "cell_type": "code",
      "execution_count": null,
      "metadata": {
        "colab": {
          "base_uri": "https://localhost:8080/"
        },
        "id": "m80ofHhR8vJr",
        "outputId": "0938becb-878b-4be0-a5c0-4c0fd1e19b19"
      },
      "outputs": [
        {
          "name": "stdout",
          "output_type": "stream",
          "text": [
            "5\n"
          ]
        }
      ],
      "source": [
        "def add(x, y):\n",
        "    return x + y\n",
        "\n",
        "def subtract(x, y):\n",
        "    return x - y\n",
        "\n",
        "funcs = [add, subtract]\n",
        "print(funcs[0](2, 3))  # 출력: 5"
      ]
    },
    {
      "cell_type": "code",
      "execution_count": null,
      "metadata": {
        "colab": {
          "base_uri": "https://localhost:8080/"
        },
        "id": "HnOpB-nG83Ku",
        "outputId": "4e998d5f-04fc-43f6-8d65-67120397cf26"
      },
      "outputs": [
        {
          "name": "stdout",
          "output_type": "stream",
          "text": [
            "5\n",
            "5\n",
            "5\n",
            "-1\n",
            "6\n",
            "0.6666666666666666\n"
          ]
        }
      ],
      "source": [
        "class Operator:\n",
        "    def add(self, x, y):\n",
        "        return x+y\n",
        "\n",
        "    def sub(self, x, y):\n",
        "        return x-y\n",
        "\n",
        "    def mul(self, x, y):\n",
        "        return x*y\n",
        "\n",
        "    def div(self, x, y):\n",
        "        return x/y\n",
        "\n",
        "    def _and(self, x, y):\n",
        "        pass\n",
        "\n",
        "    def _or(self, x, y):\n",
        "        pass\n",
        "\n",
        "op = Operator()\n",
        "logical_op = {\n",
        "    'add' : op.add,\n",
        "    'sub' : op.sub,\n",
        "    'mul' : op.mul,\n",
        "    'div' : op.div,\n",
        "\n",
        "}\n",
        "artihmetic_op = {\n",
        "    '_and' : op._and,\n",
        "    '_or' : op._or\n",
        "\n",
        "}\n",
        "\n",
        "print(logical_op['add'](2,3))\n",
        "print(op.add(2,3))\n",
        "\n",
        "for _, f in logical_op.items():\n",
        "    print(f(2, 3)) # 4칙연산 모두 계산"
      ]
    },
    {
      "cell_type": "code",
      "execution_count": null,
      "metadata": {
        "colab": {
          "base_uri": "https://localhost:8080/"
        },
        "id": "E7azud0--peL",
        "outputId": "038a0ebc-2dac-4ee6-dfc1-b0fb5432a8c1"
      },
      "outputs": [
        {
          "name": "stdout",
          "output_type": "stream",
          "text": [
            "냐옹\n"
          ]
        }
      ],
      "source": [
        "def licat_sound(p):\n",
        "    # 함수의 기능 10줄이 들어간다 생각하겠습니다.\n",
        "    x = 10\n",
        "    y = 10\n",
        "    z = 10\n",
        "\n",
        "    p('냐옹')\n",
        "\n",
        "licat_sound(print) #licat_sound안에 built in fuction인 print를 넣었습니다."
      ]
    },
    {
      "cell_type": "code",
      "execution_count": null,
      "metadata": {
        "colab": {
          "base_uri": "https://localhost:8080/"
        },
        "id": "jpYWYYkS_odo",
        "outputId": "106151d5-eef7-46b5-fd78-d6d719504680"
      },
      "outputs": [
        {
          "data": {
            "text/plain": [
              "314.0"
            ]
          },
          "execution_count": 202,
          "metadata": {},
          "output_type": "execute_result"
        }
      ],
      "source": [
        "#  함수를 인자로 넣기\n",
        "def square(x) :\n",
        "    return x ** 2\n",
        "\n",
        "def width_circle(r,s):\n",
        "    return s(r) * 3.14\n",
        "\n",
        "width_circle(10, square)"
      ]
    },
    {
      "cell_type": "markdown",
      "metadata": {
        "id": "PE3g06DzAXZB"
      },
      "source": [
        "# 연습문제"
      ]
    },
    {
      "cell_type": "code",
      "execution_count": null,
      "metadata": {
        "colab": {
          "base_uri": "https://localhost:8080/"
        },
        "id": "ffhl4g40AOC2",
        "outputId": "f5b40439-614e-4553-b3f3-81a1bda32ac2"
      },
      "outputs": [
        {
          "data": {
            "text/plain": [
              "11.180339887498949"
            ]
          },
          "execution_count": 203,
          "metadata": {},
          "output_type": "execute_result"
        }
      ],
      "source": [
        "def length(a, b, square, root):\n",
        "    return root(square(a) + square(b))\n",
        "\n",
        "def square(x):\n",
        "    return x**2\n",
        "\n",
        "def root(x):\n",
        "    return x**0.5\n",
        "\n",
        "length(10, 5, square, root)\n"
      ]
    },
    {
      "cell_type": "code",
      "execution_count": null,
      "metadata": {
        "colab": {
          "base_uri": "https://localhost:8080/"
        },
        "id": "sAf69IsOCyWh",
        "outputId": "02765ec7-27bf-4c37-d746-dedcb5416f9d"
      },
      "outputs": [
        {
          "name": "stdout",
          "output_type": "stream",
          "text": [
            "15\n"
          ]
        }
      ],
      "source": [
        "# 함수를 결과로 반환!\n",
        "def create_adder(x):\n",
        "    def adder(y):\n",
        "        return x + y\n",
        "    return adder\n",
        "\n",
        "add_5 = create_adder(5)\n",
        "print(add_5(10))  # 출력: 15"
      ]
    },
    {
      "cell_type": "code",
      "execution_count": null,
      "metadata": {
        "colab": {
          "base_uri": "https://localhost:8080/"
        },
        "id": "qrlXhAD7EDzV",
        "outputId": "507631ad-6641-4dda-af22-7259037a8e6b"
      },
      "outputs": [
        {
          "name": "stdout",
          "output_type": "stream",
          "text": [
            "100\n",
            "1000\n"
          ]
        }
      ],
      "source": [
        "def create_exponent(x):\n",
        "    def exponent(y):\n",
        "        return y ** x\n",
        "    return exponent\n",
        "\n",
        "exponent_2 = create_exponent(2)\n",
        "exponent_3 = create_exponent(3)\n",
        "print(exponent_2(10)) # 출력: 100\n",
        "print(exponent_3(10)) # 출력: 1000"
      ]
    },
    {
      "cell_type": "code",
      "execution_count": null,
      "metadata": {
        "colab": {
          "base_uri": "https://localhost:8080/"
        },
        "id": "zj6OorPZEH0S",
        "outputId": "f9c7ddbd-4512-4880-93b4-05c5ec5ab732"
      },
      "outputs": [
        {
          "name": "stdout",
          "output_type": "stream",
          "text": [
            "137408824778304\n"
          ]
        },
        {
          "data": {
            "text/plain": [
              "137408824778304"
            ]
          },
          "execution_count": 206,
          "metadata": {},
          "output_type": "execute_result"
        }
      ],
      "source": [
        "def f():\n",
        "    l = [10, 20, 30]\n",
        "    print(id(l))\n",
        "    return l\n",
        "\n",
        "sample = f()\n",
        "id(sample)"
      ]
    },
    {
      "cell_type": "markdown",
      "metadata": {
        "id": "vI6uAPRzNr1m"
      },
      "source": [
        "# 데코레이터"
      ]
    },
    {
      "cell_type": "code",
      "execution_count": null,
      "metadata": {
        "colab": {
          "base_uri": "https://localhost:8080/"
        },
        "id": "4KJgdRY5IgoF",
        "outputId": "2f69a6e1-3f3a-4976-9cf2-14dcb1220e3a"
      },
      "outputs": [
        {
          "name": "stdout",
          "output_type": "stream",
          "text": [
            "Before the function call\n",
            "Hello, World!\n",
            "After the function call\n"
          ]
        }
      ],
      "source": [
        "def simple_decorator(function):\n",
        "    def wrapper():\n",
        "        print(\"Before the function call\")\n",
        "        function()\n",
        "        print(\"After the function call\")\n",
        "    return wrapper\n",
        "\n",
        "@simple_decorator\n",
        "def hello():\n",
        "    print(\"Hello, World!\")\n",
        "\n",
        "hello() # 데코레이터가 없는 상태에서는 simple_decorator(hello)() 와 같습니다."
      ]
    },
    {
      "cell_type": "code",
      "execution_count": null,
      "metadata": {
        "colab": {
          "base_uri": "https://localhost:8080/",
          "height": 239
        },
        "id": "n1o6tBBZNuDL",
        "outputId": "adff50f0-6e97-4dab-af18-d56a834d5eae"
      },
      "outputs": [
        {
          "ename": "TypeError",
          "evalue": "ignored",
          "output_type": "error",
          "traceback": [
            "\u001b[0;31m---------------------------------------------------------------------------\u001b[0m",
            "\u001b[0;31mTypeError\u001b[0m                                 Traceback (most recent call last)",
            "\u001b[0;32m<ipython-input-208-b45775b9a43e>\u001b[0m in \u001b[0;36m<cell line: 11>\u001b[0;34m()\u001b[0m\n\u001b[1;32m      9\u001b[0m     \u001b[0;32mreturn\u001b[0m \u001b[0msum\u001b[0m\u001b[0;34m(\u001b[0m\u001b[0mdata\u001b[0m\u001b[0;34m)\u001b[0m\u001b[0;34m/\u001b[0m\u001b[0mlen\u001b[0m\u001b[0;34m(\u001b[0m\u001b[0mdata\u001b[0m\u001b[0;34m)\u001b[0m\u001b[0;34m\u001b[0m\u001b[0;34m\u001b[0m\u001b[0m\n\u001b[1;32m     10\u001b[0m \u001b[0;34m\u001b[0m\u001b[0m\n\u001b[0;32m---> 11\u001b[0;31m \u001b[0mmean\u001b[0m\u001b[0;34m(\u001b[0m\u001b[0;34m[\u001b[0m\u001b[0;36m1\u001b[0m\u001b[0;34m,\u001b[0m \u001b[0;36m2\u001b[0m\u001b[0;34m,\u001b[0m \u001b[0;34m'3'\u001b[0m\u001b[0;34m,\u001b[0m \u001b[0;36m4\u001b[0m\u001b[0;34m,\u001b[0m \u001b[0;34m'5'\u001b[0m\u001b[0;34m]\u001b[0m\u001b[0;34m)\u001b[0m \u001b[0;31m# TypeError 발생\u001b[0m\u001b[0;34m\u001b[0m\u001b[0;34m\u001b[0m\u001b[0m\n\u001b[0m",
            "\u001b[0;31mTypeError\u001b[0m: data_Preprocessing.<locals>.wrapper() takes 0 positional arguments but 1 was given"
          ]
        }
      ],
      "source": [
        "# step 1\n",
        "def data_Preprocessing(function):\n",
        "    def wrapper():\n",
        "        pass\n",
        "    return wrapper\n",
        "\n",
        "@data_Preprocessing\n",
        "def mean(data):\n",
        "    return sum(data)/len(data)\n",
        "\n",
        "mean([1, 2, '3', 4, '5']) # TypeError 발생"
      ]
    },
    {
      "cell_type": "code",
      "execution_count": null,
      "metadata": {
        "id": "ThBcBG28QF8s"
      },
      "outputs": [],
      "source": [
        "# step 2\n",
        "def data_Preprocessing(function):\n",
        "    def wrapper(data):\n",
        "        print(data)\n",
        "    return wrapper\n",
        "\n",
        "@data_Preprocessing\n",
        "def mean(data):\n",
        "    return sum(data)/len(data)\n",
        "\n",
        "mean([1, 2, '3', 4, '5']) # 데이터만 출력하고 함수는 None을 반환"
      ]
    },
    {
      "cell_type": "code",
      "execution_count": null,
      "metadata": {
        "id": "UsIYPEofQSC8"
      },
      "outputs": [],
      "source": [
        "# step 3\n",
        "def data_Preprocessing(function):\n",
        "    def wrapper(data):\n",
        "        return function(list(map(int, data)))\n",
        "    return wrapper\n",
        "\n",
        "@data_Preprocessing\n",
        "def mean(data):\n",
        "    return sum(data)/len(data)\n",
        "\n",
        "mean([1, 2, '3', 4, '5']) # 출력: 3.0 (정상 작동)"
      ]
    },
    {
      "cell_type": "code",
      "execution_count": null,
      "metadata": {
        "id": "WeQYQELbQpdw"
      },
      "outputs": [],
      "source": [
        "# step 3\n",
        "def data_Preprocessing(function):\n",
        "    def wrapper(a, b, c):\n",
        "        print(a, b, c)\n",
        "        # print(function([a, b, c]))\n",
        "    return wrapper\n",
        "\n",
        "@data_Preprocessing\n",
        "def mean(data):\n",
        "    return sum(data)/len(data)\n",
        "\n",
        "\n",
        "mean(10, 20, 30) # 왜 오류가 없을까요? data인자가 하나고, 10, 20, 30인자가 3개인데요?"
      ]
    },
    {
      "cell_type": "code",
      "execution_count": null,
      "metadata": {
        "id": "onku8p9JUz8i"
      },
      "outputs": [],
      "source": [
        "import sys\n",
        "def ff():\n",
        "    l = [10, 20, 30]\n",
        "    print(id(l))\n",
        "    return l\n",
        "\n",
        "sample_ = ff()\n",
        "id(sample_)"
      ]
    },
    {
      "cell_type": "code",
      "execution_count": null,
      "metadata": {
        "id": "ObT0eEnhVBVI"
      },
      "outputs": [],
      "source": [
        "# 강성웅님 Q&A\n",
        "# b를 실행시키고 싶은데 어떻게 해야 할까요?\n",
        "def outer(function):\n",
        "    def wrapper():\n",
        "        return 'hello'\n",
        "    return wrapper\n",
        "\n",
        "@outer\n",
        "def a():\n",
        "    def b():\n",
        "        print('hello b')\n",
        "    return b\n",
        "\n",
        "print(a())"
      ]
    },
    {
      "cell_type": "code",
      "execution_count": null,
      "metadata": {
        "id": "ww9B3pckZYhP"
      },
      "outputs": [],
      "source": [
        "# 강성웅님 Q&A\n",
        "# b를 실행시키고 싶은데 어떻게 해야 할까요?\n",
        "def outer(function):\n",
        "    def wrapper():\n",
        "        function()()\n",
        "        return 'hello'\n",
        "    return wrapper\n",
        "\n",
        "@outer\n",
        "def a():\n",
        "    def b():\n",
        "        print('hello b')\n",
        "    return b\n",
        "\n",
        "print(a())"
      ]
    },
    {
      "cell_type": "code",
      "execution_count": null,
      "metadata": {
        "id": "ziMOj0eXZaq0"
      },
      "outputs": [],
      "source": [
        "# 이런 식으로 우린 사용합니다.\n",
        "# login한 사용자만 게시판 읽도록\n",
        "# Django와 같은 프레임웤은 필요한 데코레이터는 미리 구현되어 있습니다.\n",
        "# 걱정하지 않으셔도 됩니다.\n",
        "def login(arg):\n",
        "    pass\n",
        "\n",
        "@login\n",
        "def 게시판읽기():\n",
        "    pass"
      ]
    },
    {
      "cell_type": "code",
      "execution_count": null,
      "metadata": {
        "id": "aAr3MptSZr1j"
      },
      "outputs": [],
      "source": [
        "def add_exclamation(function):\n",
        "    def wrapper(text):\n",
        "        print(f'add_exclamation 데코레이터 시작')\n",
        "        result = function(text) + \"!\"\n",
        "        print(f'add_exclamation 데코레이터 종료')\n",
        "        return result\n",
        "    return wrapper\n",
        "\n",
        "def add_question_mark(function):\n",
        "    def wrapper(text):\n",
        "        print(f'add_question_mark 데코레이터 시작')\n",
        "        result = function(text) + \"?\"\n",
        "        print(f'add_question_mark 데코레이터 종료')\n",
        "        return result\n",
        "    return wrapper\n",
        "\n",
        "def add_dot(function):\n",
        "    def wrapper(text):\n",
        "        print(f'add_dot 데코레이터 시작')\n",
        "        result = function(text) + \".\"\n",
        "        print(f'add_dot 데코레이터 종료')\n",
        "        return result\n",
        "    return wrapper\n",
        "\n"
      ]
    },
    {
      "cell_type": "code",
      "execution_count": null,
      "metadata": {
        "id": "P92z8C-uaHtR"
      },
      "outputs": [],
      "source": [
        "def add(n): # 데코레이터를 감싸는 하나의 함수를 더 만들어서 아규먼트를 받는 방법입니다.\n",
        "    def decorator(function): # 여기서부터의 기능은 같습니다.\n",
        "        def new_function(a, b):\n",
        "            print(f'plus 함수가 {n}만큼 증가시키는 데코레이터가 시작됩니다.')\n",
        "            result = function(a, b)\n",
        "            print(result)\n",
        "            print(f'plus 함수가 {n}만큼 증가시키는 데코레이터가 종료됩니다.')\n",
        "            return result + n\n",
        "        return new_function\n",
        "    return decorator\n",
        "\n",
        "@add(1000)\n",
        "def plus(a, b):\n",
        "    print('plus 함수가 호출되었습니다.')\n",
        "    return a + b\n",
        "\n",
        "result = plus(10, 20)\n",
        "print(f'result : {result}')"
      ]
    },
    {
      "cell_type": "markdown",
      "metadata": {
        "id": "n9Q6XgN_eA1n"
      },
      "source": [
        "#lambda"
      ]
    },
    {
      "cell_type": "code",
      "execution_count": null,
      "metadata": {
        "id": "upzcg0Sad-Q3"
      },
      "outputs": [],
      "source": [
        "square = lambda x: x*x\n",
        "print(square(5))  # 출력: 25"
      ]
    },
    {
      "cell_type": "code",
      "execution_count": null,
      "metadata": {
        "id": "nDVYv3zkeCqg"
      },
      "outputs": [],
      "source": [
        "# plus(10, 20) == add(n)(plus)(10,20)\n",
        "\n",
        "def plus(a, b):\n",
        "    print('plus 함수가 호출되었습니다.')\n",
        "    return a + b\n",
        "\n",
        "def add(n):\n",
        "    def decorator(f):\n",
        "        def wrapper(a, b):\n",
        "            print(f'plus 함수가 {n}만큼 증가시키는 데코레이터가 시작됩니다.')\n",
        "            result = f(a, b)\n",
        "            print(result)\n",
        "            print(f'plus 함수가 {n}만큼 증가시키는 데코레이터가 종료됩니다.')\n",
        "            return result + n\n",
        "        return wrapper\n",
        "    return decorator\n",
        "\n",
        "# add(n)(plus)(10,20), add(1000) == decorator\n",
        "# decorator(plus)(10,20), decorator(plus) == wrapper\n",
        "# wrapper(10, 20)\n",
        "\n",
        "# decorator(plus(10, 20))() (X)\n",
        "# add(1000)(plus)(10, 20)() (X)\n",
        "# add(1000)(plus)(10, 20)"
      ]
    },
    {
      "cell_type": "code",
      "execution_count": null,
      "metadata": {
        "id": "m3-Ze70CxPcM"
      },
      "outputs": [],
      "source": [
        "def plus(a, b):\n",
        "    print('plus 함수가 호출되었습니다.')\n",
        "    return a + b\n",
        "\n",
        "def add(n):\n",
        "    def decorator(f):\n",
        "        def wrapper(a, b):\n",
        "            print(f'plus 함수가 {n}만큼 증가시키는 데코레이터가 시작됩니다.')\n",
        "            result = f(a, b)\n",
        "            print(result)\n",
        "            print(f'plus 함수가 {n}만큼 증가시키는 데코레이터가 종료됩니다.')\n",
        "            return result + n\n",
        "        return wrapper\n",
        "    return decorator\n",
        "\n",
        "# d = add(1000)\n",
        "# w = d(plus)\n",
        "# w(10, 20)\n",
        "\n",
        "add(1000)(plus)(10, 20)"
      ]
    },
    {
      "cell_type": "code",
      "execution_count": null,
      "metadata": {
        "id": "I6fgw8UGxRVe"
      },
      "outputs": [],
      "source": [
        "def print_args(*args):\n",
        "    print(args)\n",
        "    for x in args:\n",
        "        print(x)\n",
        "\n",
        "print_args(100, True, 'Licat')"
      ]
    },
    {
      "cell_type": "code",
      "execution_count": null,
      "metadata": {
        "id": "ykcQaGyfynrG"
      },
      "outputs": [],
      "source": [
        "def print_args(a, b, *args, c): # *args뒤에 일반 변수를 선언하지 못합니다.\n",
        "    print(args)\n",
        "    for x in args:\n",
        "        print(x)\n",
        "\n",
        "print_args(100, True, 'Licat', 'hello', 10)"
      ]
    },
    {
      "cell_type": "code",
      "execution_count": null,
      "metadata": {
        "id": "GG7JOrIRypKA"
      },
      "outputs": [],
      "source": [
        "def print_kwargs(a, **kwargs):\n",
        "    print(a)\n",
        "    print(kwargs)\n",
        "    for i in kwargs:\n",
        "        print(i)\n",
        "\n",
        "print_kwargs(100, name='Licat', age='10')"
      ]
    },
    {
      "cell_type": "code",
      "execution_count": null,
      "metadata": {
        "id": "Oph8EZtby-xT"
      },
      "outputs": [],
      "source": [
        "def print_kwargs(*args):\n",
        "    print(args)\n",
        "    for i in args:\n",
        "        print(i)\n",
        "\n",
        "value = {'one':10, 'two':20}\n",
        "print_kwargs(*value)"
      ]
    },
    {
      "cell_type": "code",
      "execution_count": null,
      "metadata": {
        "id": "E9f54j0NzfuJ"
      },
      "outputs": [],
      "source": [
        "def print_kwargs(*kwargs):\n",
        "    print(kwargs)\n",
        "    for i in kwargs:\n",
        "        print(i)\n",
        "\n",
        "value = {'one':10, 'two':20}\n",
        "print_kwargs(*value)"
      ]
    },
    {
      "cell_type": "code",
      "execution_count": null,
      "metadata": {
        "id": "p8FSEkJr0IWO"
      },
      "outputs": [],
      "source": [
        "def func(a, b, *, c, d):\n",
        "    print(a, b, c, d)\n",
        "\n",
        "# func(1, 2, c = 3, d = 4)  # 올바른 예시\n",
        "# func(1, 2, 3, d = 4)  # 잘못된 예시\n",
        "# func(1, 2, 3, 4)    # 잘못된 예시"
      ]
    },
    {
      "cell_type": "code",
      "execution_count": null,
      "metadata": {
        "id": "REiS-ljv3We1"
      },
      "outputs": [],
      "source": [
        "def func(a, b, c):\n",
        "    print(a, b, c)\n",
        "\n",
        "args = (1, 2, 3)\n",
        "func(*args)\n",
        "print(args, *args)\n",
        "\n",
        "kwargs = {'a': 1, 'b': 2, 'c': 3}\n",
        "func(**kwargs)\n",
        "print(kwargs, **kwargs) # error"
      ]
    },
    {
      "cell_type": "code",
      "execution_count": null,
      "metadata": {
        "id": "N1OroC4J3YVj"
      },
      "outputs": [],
      "source": [
        "def my_generator(data):\n",
        "    for i in data:\n",
        "        yield i\n",
        "\n",
        "my_list = [1, 2, 3, 4, 5]\n",
        "my_iterator = my_generator(my_list)\n",
        "\n",
        "for i in my_iterator:\n",
        "    print(i)"
      ]
    },
    {
      "cell_type": "code",
      "execution_count": null,
      "metadata": {
        "id": "4w5AaUjPIuqP"
      },
      "outputs": [],
      "source": [
        "def my_generator(data):\n",
        "    for i in data:\n",
        "        yield i * 10\n",
        "\n",
        "for i in my_generator([1, 2, 3]):\n",
        "    print(i)"
      ]
    },
    {
      "cell_type": "code",
      "execution_count": null,
      "metadata": {
        "id": "4h72t9_2Iwc8"
      },
      "outputs": [],
      "source": [
        "# 이럴때 많이 사용합니다.\n",
        "def my_generator():\n",
        "    l = ['짝', '홀']\n",
        "    t = False\n",
        "    while True:\n",
        "        if t == False:\n",
        "            yield l[0]\n",
        "            t = True\n",
        "        else:\n",
        "            yield l[1]\n",
        "            t = False\n",
        "\n",
        "list(zip([0, 1, 2, 3, 4, 5, 6], my_generator()))"
      ]
    },
    {
      "cell_type": "code",
      "execution_count": null,
      "metadata": {
        "id": "2fCmr14EIx28"
      },
      "outputs": [],
      "source": [
        "def my_generator():\n",
        "    count = 0\n",
        "    while True:\n",
        "        yield count\n",
        "        count += 2\n",
        "list(zip([1, 2, 3, 4, 5, 6, 7, 8, 9], 'hello world', my_generator())) # 마치 enumerate처럼"
      ]
    },
    {
      "cell_type": "code",
      "execution_count": null,
      "metadata": {
        "id": "znJBmw4mI0VR"
      },
      "outputs": [],
      "source": [
        "gen = (i for i in range(2, 11, 2))\n",
        "for i in gen:\n",
        "    print(i)"
      ]
    },
    {
      "cell_type": "code",
      "execution_count": null,
      "metadata": {
        "id": "ZwzS4BMoI2xy"
      },
      "outputs": [],
      "source": [
        "# 회전초밥집에 들어갔습니다. 초밥은 아래와 같은 양식으로 나옵니다.\n",
        "# [['광어초밥', 1000], ['연어초밥', 2000], ['계란초밥', 3000]]\n",
        "# * 각 초밥은 몇 개 나올지 알 수 없습니다.\n",
        "# * 각 초밥은 1000원씩 비싸집니다.\n",
        "# * 초밥에 '어'가 나오는 초밥만 먹습니다.\n",
        "# 내가 먹은 초밥의 비용을 계산하는 코드를 작성해 주세요.\n",
        "\n",
        "def eo_generator(sushi):\n",
        "    for i in sushi :\n",
        "        if '어' in i[0]:\n",
        "            yield i[1]\n",
        "\n",
        "\n",
        "def solution(data):\n",
        "    price = 0\n",
        "    cnt = 0\n",
        "    for i in eo_generator(data):\n",
        "\n",
        "        price += i + (cnt*1000)\n",
        "        cnt += 1\n",
        "\n",
        "    return price\n",
        "\n",
        "\n",
        "solution([['광어초밥', 1000], ['연어초밥', 2000], ['계란초밥', 3000], ['문어초밥', 4000], ['장어초밥', 5000]])"
      ]
    },
    {
      "cell_type": "code",
      "execution_count": null,
      "metadata": {
        "id": "YNrXs66hNlPl"
      },
      "outputs": [],
      "source": [
        "def eo_generator(sushi):\n",
        "    for name, price in sushi:\n",
        "        if '어' in name:\n",
        "            yield price\n",
        "\n",
        "def solution(data):\n",
        "    return sum(eo_generator(data))\n",
        "\n",
        "\n",
        "solution([['광어초밥', 1000], ['연어초밥', 2000], ['계란초밥', 3000], ['문어초밥', 4000], ['장어초밥', 5000]])"
      ]
    },
    {
      "cell_type": "markdown",
      "metadata": {
        "id": "wWutmykfRyqY"
      },
      "source": [
        "# nonlocal"
      ]
    },
    {
      "cell_type": "code",
      "execution_count": null,
      "metadata": {
        "id": "ToZlZywPPnEB"
      },
      "outputs": [],
      "source": [
        "x = 100\n",
        "def outer():\n",
        "    x = 1\n",
        "    def inner():\n",
        "        nonlocal x\n",
        "        x += 1\n",
        "        print(x)\n",
        "    inner()\n",
        "    print(x)\n",
        "\n",
        "outer()\n",
        "print(x)"
      ]
    },
    {
      "cell_type": "code",
      "execution_count": null,
      "metadata": {
        "id": "9eNxh-A1R0vd"
      },
      "outputs": [],
      "source": [
        "# 문제1\n",
        "# 다음과 같이 동작하는 제너레이터 함수 fibonacci(n)를 완성하세요.\n",
        "# 주어진 숫자 n까지의 피보나치 수열을 반환합니다.\n",
        "# 인터넷에서 피보나치 순열 Python 코드를 검색해보셔도 좋습니다.\n",
        "\n",
        "import time\n",
        "\n",
        "def time_it(func):\n",
        "    def wrapper(*args):\n",
        "        start = time.time()\n",
        "        func(*args)\n",
        "        end = time.time()\n",
        "        print(f\"함수 실행 시간 : {format(end-start, '.5f')}\")\n",
        "\n",
        "    return wrapper\n",
        "\n",
        "\n",
        "def fib(n):\n",
        "    x, y = 1, 1\n",
        "    for _ in range(n):\n",
        "        yield x\n",
        "        x, y = y, x+y\n",
        "\n",
        "@time_it\n",
        "def fib20():\n",
        "    for i in fib(20):\n",
        "        print(i)\n",
        "\n",
        "fib20()\n",
        "\n",
        "# '''\n",
        "# 출력\n",
        "# 1\n",
        "# 1\n",
        "# 2\n",
        "# 3\n",
        "# 5\n",
        "# '''\n",
        "\n",
        "# 문제2\n",
        "# 주어진 함수의 실행 시간을 측정하여 출력하는 데코레이터 time_it를 작성하세요.\n",
        "# (힌트: time 모듈의 time() 함수를 사용하세요.)"
      ]
    },
    {
      "cell_type": "code",
      "execution_count": null,
      "metadata": {
        "id": "bz79PuiYqzte"
      },
      "outputs": [],
      "source": []
    },
    {
      "cell_type": "code",
      "execution_count": null,
      "metadata": {
        "id": "CfFZqSn5qbXF"
      },
      "outputs": [],
      "source": []
    },
    {
      "cell_type": "code",
      "execution_count": null,
      "metadata": {
        "id": "5ND_pupJqX2H"
      },
      "outputs": [],
      "source": []
    },
    {
      "cell_type": "code",
      "execution_count": null,
      "metadata": {
        "id": "loyLZuXWqUbN"
      },
      "outputs": [],
      "source": []
    },
    {
      "cell_type": "code",
      "execution_count": null,
      "metadata": {
        "id": "O6MeB1pnqR8l"
      },
      "outputs": [],
      "source": []
    },
    {
      "cell_type": "code",
      "execution_count": null,
      "metadata": {
        "id": "-63BPqApqH6x"
      },
      "outputs": [],
      "source": []
    },
    {
      "cell_type": "code",
      "execution_count": null,
      "metadata": {
        "id": "8_H7UObepbmv"
      },
      "outputs": [],
      "source": [
        "\n",
        "def fib(n):\n",
        "    x, y = 1, 1\n",
        "    for _ in range(n):\n",
        "        yield x\n",
        "        x, y = y, x+y\n",
        "\n",
        "\n",
        "for i in fib(20):\n",
        "    print(i)\n",
        "\n"
      ]
    },
    {
      "cell_type": "markdown",
      "metadata": {
        "id": "UhC4US5oHznZ"
      },
      "source": [
        "# 파이썬 버전별 다른 문법"
      ]
    },
    {
      "cell_type": "code",
      "execution_count": null,
      "metadata": {
        "id": "gXJANJ3Rp1AS"
      },
      "outputs": [],
      "source": [
        "# 3.6 ver\n",
        "name = \"Alice\"\n",
        "# print(f\"Hello, {name}\")\n",
        "\n",
        "def greet(name: str) -> str:\n",
        "    return f\"Hello, {name}\"\n",
        "\n",
        "greet(name)"
      ]
    },
    {
      "cell_type": "code",
      "execution_count": null,
      "metadata": {
        "id": "0OGike7cIEko"
      },
      "outputs": [],
      "source": [
        "# 3.7 ver\n",
        "\n",
        "# id, name, email이 각각 3번씩 반복\n",
        "# -> 이러한 현상을  보일러 플레이트(boiler-plate)라 함\n",
        "# -> print를 해도 필드값이 보이지 않아 불편\n",
        "class User:\n",
        "    def __init__(self, id, name, email):\n",
        "        self.id = id\n",
        "        self.name = name\n",
        "        self.email = email"
      ]
    },
    {
      "cell_type": "code",
      "execution_count": null,
      "metadata": {
        "id": "K7zuphv0IK0u"
      },
      "outputs": [],
      "source": [
        "# id, name, email이 각각 3번씩 반복\n",
        "# -> 이러한 현상을  보일러 플레이트(boiler-plate)라 함\n",
        "# -> print를 해도 필드값이 보이지 않아 불편\n",
        "class User:\n",
        "    def __init__(self, id, name, email):\n",
        "        self.id = id\n",
        "        self.name = name\n",
        "        self.email = email\n",
        "\n",
        "    def __repr__(self):\n",
        "        return (f'{self.__class__.__qualname__}{self.id, self.name, self.email}')\n",
        "\n",
        "user = User(123, 'hojun', 'hojun@gmail')\n",
        "user\n",
        "# User(123, 'hojun', 'hojun@gmail')"
      ]
    },
    {
      "cell_type": "code",
      "execution_count": null,
      "metadata": {
        "id": "k4Q-CDXaIORC"
      },
      "outputs": [],
      "source": [
        "from dataclasses import dataclass\n",
        "\n",
        "@dataclass\n",
        "class User:\n",
        "    id: int\n",
        "    name: str\n",
        "    email : str\n",
        "\n",
        "user = User(123, 'hojun', 'hojun@gmail')\n",
        "user"
      ]
    },
    {
      "cell_type": "code",
      "execution_count": null,
      "metadata": {
        "id": "xflvTLxsIS9p"
      },
      "outputs": [],
      "source": [
        "# 3.8\n",
        "(x := 10) * 3"
      ]
    },
    {
      "cell_type": "code",
      "execution_count": null,
      "metadata": {
        "id": "uYehkpD3KQ_n"
      },
      "outputs": [],
      "source": [
        "#  3.9\n",
        "#  딕셔너리 결합이 이제는 됩니다!\n",
        "x = {\"key1\": \"value1\"}\n",
        "y = {\"ket2\": \"value2\"}\n",
        "z = x | y\n",
        "z"
      ]
    },
    {
      "cell_type": "code",
      "execution_count": null,
      "metadata": {
        "id": "UASJnJCBIC96"
      },
      "outputs": [],
      "source": [
        "# x = {\"key1\": \"value1\"}\n",
        "# y = {\"ket2\": \"value2\"}\n",
        "# 전까지는 이렇게 했습니다. 까먹어 버렸네요...\n",
        "\n",
        "x = {\"key1\": \"value1\"}\n",
        "x.update({\"ket2\": \"value2\"})\n",
        "x"
      ]
    },
    {
      "cell_type": "code",
      "execution_count": null,
      "metadata": {
        "id": "NqTRMASNIAdu"
      },
      "outputs": [],
      "source": [
        "#  3.5\n",
        "x = {\"key1\": \"value1\"}\n",
        "y = {\"ket2\": \"value2\"}\n",
        "\n",
        "\n",
        "z = {**x, **y}\n",
        "z"
      ]
    },
    {
      "cell_type": "code",
      "execution_count": null,
      "metadata": {
        "id": "shDnR7C4H-Io"
      },
      "outputs": [],
      "source": [
        "!python --version"
      ]
    },
    {
      "cell_type": "markdown",
      "metadata": {
        "id": "V_M4x99_NDKc"
      },
      "source": [
        "# 파일 입출력"
      ]
    },
    {
      "cell_type": "code",
      "execution_count": null,
      "metadata": {
        "id": "LMZIOb9FH9Tb"
      },
      "outputs": [],
      "source": [
        "# open(파일이름, 파일모드)\n",
        "f = open('python.txt', 'w')\n",
        "# 파일모드 : r : 읽기 모드,\n",
        "# w : 쓰기모드(파일이 없으면 생성합니다!내용이 있어도 w모드면 덮어씁니다..),\n",
        "# a : 추가모드\n",
        "f.close()\n",
        "# python.txt가 생겼습니다."
      ]
    },
    {
      "cell_type": "code",
      "execution_count": null,
      "metadata": {
        "id": "LFijeIZ6pP14"
      },
      "outputs": [],
      "source": [
        "f = open('python.txt', 'w')\n",
        "s = ''\n",
        "for i in range(1, 6):\n",
        "\ts += f'{i}명 참여 중입니다. \\n'\n",
        "f.write(s)\n",
        "f.close()"
      ]
    },
    {
      "cell_type": "code",
      "execution_count": null,
      "metadata": {
        "id": "4wsO-vA2oSbR"
      },
      "outputs": [],
      "source": [
        "f = open('python.txt', 'w')\n",
        "s = ''\n",
        "for i in range(1, 6):\n",
        "    s += f'{i}명 참여 중입니다. \\n'\n",
        "f.write(s)\n",
        "f.close()"
      ]
    },
    {
      "cell_type": "code",
      "execution_count": null,
      "metadata": {
        "id": "ubu3poP1oJFS"
      },
      "outputs": [],
      "source": [
        "f = open('python.txt', 'r')\n",
        "while True:\n",
        "    line = f.readline()\n",
        "    if not line:\n",
        "        break\n",
        "    print(line)\n",
        "f.close()"
      ]
    },
    {
      "cell_type": "code",
      "execution_count": null,
      "metadata": {
        "id": "zLB6NO39ntpk"
      },
      "outputs": [],
      "source": [
        "f = open('python.txt', 'r')\n",
        "lines = f.readlines()\n",
        "# for line in lines:\n",
        "#     print(line)\n",
        "print(lines)\n",
        "f.close()"
      ]
    },
    {
      "cell_type": "code",
      "execution_count": null,
      "metadata": {
        "id": "w-7aRTGNna5y"
      },
      "outputs": [],
      "source": [
        "f = open('python.txt', 'r')\n",
        "data = f.read()\n",
        "print(data)\n",
        "f.close()"
      ]
    },
    {
      "cell_type": "code",
      "execution_count": null,
      "metadata": {
        "id": "8RjZSjHsmNw5"
      },
      "outputs": [],
      "source": [
        "data"
      ]
    },
    {
      "cell_type": "code",
      "execution_count": null,
      "metadata": {
        "id": "2fsh8gwBmCAY"
      },
      "outputs": [],
      "source": [
        "f = open('python.txt', 'r')\n",
        "lines = f.readlines()\n",
        "for line in lines:\n",
        "\tprint(line, end='')\n",
        "f.close()"
      ]
    },
    {
      "cell_type": "code",
      "execution_count": null,
      "metadata": {
        "id": "taK_ufosl8Y3"
      },
      "outputs": [],
      "source": [
        "# 쉬운 예제\n",
        "f = open('python.html', 'w')\n",
        "s = '''\n",
        "<html>\n",
        "<head>\n",
        "<head>\n",
        "<body>\n",
        "<h1>hello world</h1>\n",
        "</body>\n",
        "</html>\n",
        "'''\n",
        "f.write(s)\n",
        "f.close()"
      ]
    },
    {
      "cell_type": "code",
      "execution_count": null,
      "metadata": {
        "id": "l6Q5_argTWq6"
      },
      "outputs": [],
      "source": [
        "# 쉬운예제\n",
        "f = open('python.csv', 'w')\n",
        "s = '''제목,평점,이미지,줄거리\n",
        "무빙,5.0,img,줄거리\n",
        "무빙,5.0,img,줄거리\n",
        "무빙,5.0,img,줄거리\n",
        "'''\n",
        "f.write(s)\n",
        "f.close()"
      ]
    },
    {
      "cell_type": "code",
      "execution_count": null,
      "metadata": {
        "id": "EWAWmmeJTT3D"
      },
      "outputs": [],
      "source": [
        "# 어려운 예제\n",
        "# django의 동작원리와도 관련이 있습니다.\n",
        "import requests\n",
        "from bs4 import BeautifulSoup\n",
        "\n",
        "paullab_url = 'http://paullab.co.kr/bookservice/'\n",
        "response = requests.get(paullab_url)\n",
        "response.encoding = 'utf-8'\n",
        "html = response.text\n",
        "\n",
        "soup = BeautifulSoup(html, 'html.parser')\n",
        "\n",
        "bookservices = soup.select('.col-lg-6 > h2')     # col-lg-6 클래스 안의 h2 태그 탐색\n",
        "contents = ''\n",
        "\n",
        "for no, book in enumerate(bookservices, 1):\n",
        "    contents += f'''\n",
        "                <section>\n",
        "                <h2>{no}. {book.text}</h2>\n",
        "                <img src=''>\n",
        "                </section>\n",
        "                '''\n",
        "\n",
        "# 이미지 양식: https://paullab.co.kr/bookservice/img/notion.jpg\n",
        "f = open('python.html', 'w')\n",
        "s = f'''<html>\n",
        "<head>\n",
        "</head>\n",
        "<body>\n",
        "{contents}\n",
        "</body>\n",
        "</html>\n",
        "'''\n",
        "f.write(s)\n",
        "f.close()"
      ]
    },
    {
      "cell_type": "code",
      "execution_count": null,
      "metadata": {
        "id": "BKRRwly0l2hA"
      },
      "outputs": [],
      "source": [
        "soup.select('img')"
      ]
    },
    {
      "cell_type": "code",
      "execution_count": null,
      "metadata": {
        "id": "S9L4rKXNluTt"
      },
      "outputs": [],
      "source": [
        "# 어려운 예제\n",
        "# django의 동작원리와도 관련이 있습니다.\n",
        "import requests\n",
        "from bs4 import BeautifulSoup\n",
        "\n",
        "paullab_url = 'http://paullab.co.kr/bookservice/'\n",
        "response = requests.get(paullab_url)\n",
        "response.encoding = 'utf-8'\n",
        "html = response.text\n",
        "\n",
        "soup = BeautifulSoup(html, 'html.parser')\n",
        "\n",
        "bookservices = soup.select('.col-lg-6 > h2')     # col-lg-6 클래스 안의 h2 태그 탐색\n",
        "contents = ''\n",
        "\n",
        "for no, (book, img) in enumerate(zip(bookservices, soup.select('img')[2:]), 1):\n",
        "    contents += f'''\n",
        "                <section>\n",
        "                <h2>{no}. {book.text}</h2>\n",
        "                <img src='https://paullab.co.kr/bookservice/{img[\"src\"]}'>\n",
        "                </section>\n",
        "                '''\n",
        "\n",
        "# 이미지 양식: https://paullab.co.kr/bookservice/img/notion.jpg\n",
        "f = open('python.html', 'w')\n",
        "s = f'''<html>\n",
        "<head>\n",
        "</head>\n",
        "<body>\n",
        "{contents}\n",
        "</body>\n",
        "</html>\n",
        "'''\n",
        "f.write(s)\n",
        "f.close()"
      ]
    },
    {
      "cell_type": "code",
      "execution_count": null,
      "metadata": {
        "id": "RBYL4UnAkkOA"
      },
      "outputs": [],
      "source": [
        "for i in soup.select('img')[2:]:\n",
        "    print(i['src'])"
      ]
    },
    {
      "cell_type": "code",
      "execution_count": null,
      "metadata": {
        "id": "ryf9dkXhkh_t"
      },
      "outputs": [],
      "source": [
        "f = open('python.txt', 'a')\n",
        "s = ''\n",
        "for i in range(6, 11):\n",
        "\ts += f'{i}명 참여 중입니다. \\n'\n",
        "f.write(s)\n",
        "f.close()"
      ]
    },
    {
      "cell_type": "code",
      "execution_count": null,
      "metadata": {
        "id": "x5a6s-ujkKUg"
      },
      "outputs": [],
      "source": [
        "with open('test.txt', 'w') as f:\n",
        "\tf.write('Life is too short, you need python')"
      ]
    },
    {
      "cell_type": "code",
      "execution_count": null,
      "metadata": {
        "id": "Q7-hf382j1xE"
      },
      "outputs": [],
      "source": [
        "f = open('python.txt', 'r')\n",
        "lines = f.readlines()\n",
        "for line in lines:\n",
        "    print(line, end='')\n",
        "f.close()"
      ]
    },
    {
      "cell_type": "code",
      "execution_count": null,
      "metadata": {
        "id": "tcERcFXViy4x"
      },
      "outputs": [],
      "source": [
        "f = open('python.txt', 'w+') # 읽기 쓰기(기존에 있던 내용은 덮어쓰기)\n",
        "lines = f.readlines()\n",
        "for line in lines:\n",
        "    print(line, end='')\n",
        "f.close()"
      ]
    },
    {
      "cell_type": "markdown",
      "metadata": {
        "id": "E09bLPh4bZMA"
      },
      "source": [
        "# 비트연산"
      ]
    },
    {
      "cell_type": "code",
      "execution_count": null,
      "metadata": {
        "id": "qS1sbR8CijKv"
      },
      "outputs": [],
      "source": [
        "5 & 12 # bit and 연산\n",
        "\n",
        "# 00000101 == 5\n",
        "# 00001100 == 12\n",
        "# --------\n",
        "# 00000100"
      ]
    },
    {
      "cell_type": "markdown",
      "metadata": {
        "id": "d88FM9tbkDoY"
      },
      "source": [
        "# f string 문법 ***"
      ]
    },
    {
      "cell_type": "code",
      "execution_count": null,
      "metadata": {
        "id": "6LuXFzSMidnB"
      },
      "outputs": [],
      "source": [
        "name = \"Alice\"\n",
        "print(f\"Hello, {name}\")  # 출력: Hello, Alice"
      ]
    },
    {
      "cell_type": "code",
      "execution_count": null,
      "metadata": {
        "id": "4l9nAD4eiMB0"
      },
      "outputs": [],
      "source": [
        "# f string을 통해 문자열 포매팅을 할 수 있어요!\n",
        "\n",
        "num = 3.14159\n",
        "print(f\"{num:.2f}\")  # 출력: 3.14\n",
        "\n",
        "name = \"Alice\"\n",
        "print(f\"{name:>10}\")  # 출력:      Alice\n",
        "\n",
        "print(f\"{name:<10}\") # 스페이스바가 들어갔어요!"
      ]
    },
    {
      "cell_type": "code",
      "execution_count": null,
      "metadata": {
        "id": "yTMaYdLpiFr5"
      },
      "outputs": [],
      "source": [
        "value = 'hello'\n",
        "\n",
        "print(f'{value}')\n",
        "print(f'{{value}}')\n",
        "print(f'{{{value}}}')\n",
        "print(f'{{{{value}}}}')\n",
        "print(f'{{{{{value}}}}}')\n",
        "\n",
        "# 중괄호가 2개씩 증가할 떄마다 출력은 1개씩 증가됩니다!"
      ]
    },
    {
      "cell_type": "code",
      "execution_count": null,
      "metadata": {
        "id": "5NI3sfJzhZmF"
      },
      "outputs": [],
      "source": [
        "value = 'hello'\n",
        "# print(f'{value + 'world'}') #SyntaxError: f-string: expecting '}'\n",
        "\n",
        "print(f'{value + \"world\"}')\n",
        "print(f\"{value + 'world'}\")\n",
        "# print(f\"{value + \\ 'world'}\") # 이스케이프 문자를 허용하지 않습니다.\n",
        "\n",
        "#  !!구글 컨밴션에서도 중괄호 안에서 연산을 하는 것을 권하지 않습니다!!\n",
        "\n"
      ]
    },
    {
      "cell_type": "code",
      "execution_count": null,
      "metadata": {
        "id": "isVagotdhK-2"
      },
      "outputs": [],
      "source": [
        "a = 10\n",
        "b = 20\n",
        "\n",
        "# case1\n",
        "two_numbers_mul = a*b\n",
        "print(f'{two_numbers_mul}')\n",
        "\n",
        "\n",
        "# case2\n",
        "print(f'{a*b}') #굳이 변수 하나를 더 만들어야 되나? 간단하니까 이렇게 사용하자!\n",
        "# 하지만 코드가 복잡해지면 가독성에서 차이가 납니다.\n"
      ]
    },
    {
      "cell_type": "code",
      "execution_count": null,
      "metadata": {
        "id": "VXPwDjxPg9ZA"
      },
      "outputs": [],
      "source": [
        "# 파이썬(Python) 3 포맷팅 방식\n",
        "print('나의 이름은 {}입니다'.format('한사람'))\n",
        "print('나의 이름은 {0}입니다. 나이는 {1}세이고 성별은 {2}입니다.'.format('한사람',33,'남성'))\n",
        "print('나이는 {1}세이고 성별은 {2}입니다. 나의 이름은 {0}입니다. '.format('한사람',33,'남성'))\n",
        "print('나이는 {age}세이고 성별은 {gender}입니다. 나의 이름은 {name}입니다. '\n",
        "         .format(name='한사람',age=33,gender='남성'))\n",
        "print('만세삼창 :  {0}!!! {0}!!! {0}!!! '.format('만세'))\n",
        "print('삼삼칠 박수 :  {0}!!! {0}!!! {1}!!! '.format('짝'*3,'짝'*7))\n",
        "print('-' * 40)\n",
        "\n",
        "# 파이썬(Python) 3.6 f-string 방식\n",
        "something = '볼펜'\n",
        "EA = 2\n",
        "one_length = 5.343\n",
        "scale = 'cm'\n",
        "\n",
        "print(f'{something} {EA}개의 길이는 {one_length*EA}{scale} 입니다.')\n",
        "print(f'{something} {EA}개의 길이는 {one_length*EA:.1f}{scale} 입니다.')"
      ]
    },
    {
      "cell_type": "code",
      "execution_count": null,
      "metadata": {
        "id": "BVXZ9p-6gt-3"
      },
      "outputs": [],
      "source": [
        "print('나의 이름은 {0:.2f}입니다'.format(3.141592))\n",
        "print('나의 이름은 {0:>20}입니다'.format(3.141592))"
      ]
    },
    {
      "cell_type": "code",
      "execution_count": null,
      "metadata": {
        "id": "Vh02cYBzgsYV"
      },
      "outputs": [],
      "source": [
        "print('Python is [{:15}]'.format('good'))\n",
        "print('Python is [{:<15}]'.format('good'))\n",
        "print('Python is [{:>15}]'.format('good'))\n",
        "print('Python is [{:^15}]'.format('good'))\n",
        "print('Python is [{:-^15}]'.format('good'))\n",
        "print('당신의 나이는 [{:15}]세'.format(22))\n",
        "print('당신의 나이는 [{:<15}]세'.format(22))\n",
        "print('당신의 나이는 [{:>15}]세'.format(22))\n",
        "print('당신의 나이는 [{:<15}]세'.format(22))\n",
        "print('-' * 40)"
      ]
    },
    {
      "cell_type": "code",
      "execution_count": null,
      "metadata": {
        "id": "8Pql73HjeEmQ"
      },
      "outputs": [],
      "source": [
        "char_a = '5'\n",
        "int_a = 5\n",
        "\n",
        "'''기본적으로 {} 포맷팅의 특성을 그대로 가짐'''\n",
        "print(1234567890)\n",
        "print(f'{char_a:>5}') # >는 오른쪽정렬\n",
        "print(f'{char_a:<5}') # <는 왼쪽정렬\n",
        "print(f'{char_a:^5}') # ^는 가운데정렬\n",
        "print(f'{int_a:0<5}')# <는 왼쪽정렬, 빈자리를 0으로 채울수도 있음\n",
        "print(f'{int_a:^10.2f}') # ^ 가운데 정렬하면서 float 타입지정\n",
        "print(f'{int_a:-^10.2f}') # ^ 가운데 정렬하면서 float 타입지정"
      ]
    },
    {
      "cell_type": "code",
      "execution_count": null,
      "metadata": {
        "id": "UWiXTx45d3H7"
      },
      "outputs": [],
      "source": [
        "print('[{:15}]'.format('10')) # 양식 같음, 자료형만 다름\n",
        "print('[{:15}]'.format(10)) # 양식 같음, 자료형만 다름"
      ]
    },
    {
      "cell_type": "code",
      "execution_count": null,
      "metadata": {
        "id": "wSlKv0ZnPkvL"
      },
      "outputs": [],
      "source": [
        "char_a = '5'\n",
        "int_a = 5\n",
        "\n",
        "'''기본적으로 {} 포맷팅의 특성을 그대로 가짐'''\n",
        "print(1234567890)\n",
        "print(f'{char_a:*>5}') # >는 오른쪽정렬\n",
        "print(f'{char_a:<5}') # <는 왼쪽정렬\n",
        "print(f'{char_a:^5}') # ^는 가운데정렬\n",
        "print(f'{int_a:0<5}')# <는 왼쪽정렬, 빈자리를 0으로 채울수도 있음\n",
        "print(f'{int_a:^10.2f}') # ^ 가운데 정렬하면서 float 타입지정"
      ]
    },
    {
      "cell_type": "code",
      "execution_count": null,
      "metadata": {
        "id": "Vng2-o_jNhIO"
      },
      "outputs": [],
      "source": [
        "int_a = 5\n",
        "print(f'{char_a:0<10}') # <는 왼쪽정렬\n",
        "\n",
        "'12345'.zfill(10)"
      ]
    },
    {
      "cell_type": "code",
      "execution_count": null,
      "metadata": {
        "id": "Lw_VbTEENgHb"
      },
      "outputs": [],
      "source": [
        "print(f\"My set is {{1, 2, 3}}.\")  # 출력: My set is {1, 2, 3}."
      ]
    },
    {
      "cell_type": "code",
      "execution_count": null,
      "metadata": {
        "id": "jJtnQCrRM_Ht"
      },
      "outputs": [],
      "source": [
        "x = 10\n",
        "print(f\"My set is {{{x}}}.\")  # 출력: My set is {10}."
      ]
    },
    {
      "cell_type": "code",
      "execution_count": null,
      "metadata": {
        "id": "hl-oViFfMPvw"
      },
      "outputs": [],
      "source": [
        "# 문제1: 1 ~ 9 까지 더하는 프로그램\n",
        "# 문제2: 1 ~ 9 까지 홀수의 합\n",
        "# 문제3: 1000 미만의 자연수에서 3의 배수와 5의 배수의 총합을 구하는 프로그램을 작성\n",
        "\n",
        "# 문제1: 1 ~ 9 까지 더하는 프로그램\n",
        "data = list(range(1,10))\n",
        "\n",
        "print(sum(data))\n",
        "\n",
        "\n"
      ]
    },
    {
      "cell_type": "code",
      "execution_count": null,
      "metadata": {
        "id": "SLC_bfiTLAAx"
      },
      "outputs": [],
      "source": [
        "# 문제2: 1 ~ 9 까지 홀수의 합\n",
        "data = [1, 2, 3, 4, 5, 6, 7, 8, 9]\n",
        "\n",
        "odd_data = [x for x in data if x % 2 != 0]\n",
        "\n",
        "result = sum(odd_data)\n",
        "print(result)\n"
      ]
    },
    {
      "cell_type": "code",
      "execution_count": null,
      "metadata": {
        "id": "2JqOtbdTKqsF"
      },
      "outputs": [],
      "source": [
        "# 문제3: 1000 미만의 자연수에서 3의 배수와 5의 배수의 총합을 구하는 프로그램을 작성\n",
        "\n",
        "result = 0\n",
        "\n",
        "for i in range(1, 1000):\n",
        "    if i % 3 == 0 or i % 5 == 0:\n",
        "        result += i\n",
        "\n",
        "print(result)"
      ]
    },
    {
      "cell_type": "code",
      "execution_count": null,
      "metadata": {
        "id": "J9Xj0AbhKoLC"
      },
      "outputs": [],
      "source": [
        "#  선생님 풀이\n",
        "# 문제1: 1 ~ 9 까지 더하는 프로그램\n",
        "sum(list(range(10))) # list로 형변환 하는 것은 데이터가 클수록 부하가 큽니다.\n",
        "sum([i for i in range(1, 10)]) # 일반 list로 형변환 하는 것보다는 빠르지만 이것도 역시나 부하가 있습니다.\n",
        "sum(range(1, 10))\n",
        "(9 * (1 + 9)) / 2\n",
        "\n",
        "# 문제2: 1 ~ 9 까지 홀수의 합\n",
        "sum([i for i in range(1, 10, 2)])\n",
        "sum([i for i in range(10) if i % 2 == 1])\n",
        "sum(filter(lambda x:x%2==1, range(10)))\n",
        "sum(range(1, 10, 2))\n",
        "s = 0\n",
        "for i in range(10):\n",
        "    if i % 2 == 1:\n",
        "        s += i\n",
        "\n",
        "# 문제3: 1000 미만의 자연수에서 3의 배수와 5의 배수의 총합을 구하는 프로그램을 작성\n",
        "sum(range(0, 1000, 3)) + sum(range(0, 1000, 5)) - sum(range(0, 1000, 15))\n",
        "s = 0\n",
        "for i in range(1000):\n",
        "    if i % 3 == 0 or i % 5 == 0:\n",
        "        s += i\n",
        "s"
      ]
    },
    {
      "cell_type": "code",
      "execution_count": null,
      "metadata": {
        "id": "4W5JnI_SD-vU"
      },
      "outputs": [],
      "source": []
    },
    {
      "cell_type": "code",
      "execution_count": null,
      "metadata": {
        "id": "BEAVllfII42S"
      },
      "outputs": [],
      "source": [
        "with open('python.txt', 'w') as f:\n",
        "    f.write('Life is too short, you need python')"
      ]
    },
    {
      "cell_type": "code",
      "execution_count": null,
      "metadata": {
        "id": "VpTXA6mHZceT"
      },
      "outputs": [],
      "source": [
        "f = open('python.txt', 'r+') # 읽기 쓰기(기존에 있던 내용을 읽을 수 있고, 최종적으로는 덮어씀)\n",
        "# f.seek(0)  # 파일의 시작 위치로 이동, r모드는 포인터가 맨 앞으로 가 있습니다.\n",
        "print(f.read())\n",
        "f.write('\\nhello world2\\nhello world2\\n')\n",
        "f.seek(0)  # 파일의 시작 위치로 이동\n",
        "print(f.read())\n",
        "f.close()"
      ]
    },
    {
      "cell_type": "code",
      "execution_count": null,
      "metadata": {
        "id": "OtiatWPSUwwB"
      },
      "outputs": [],
      "source": [
        "f = open('python.txt', 'a+') # 읽기, 없으면 파일추가\n",
        "f.seek(0)\n",
        "print(f.read())\n",
        "f.write('hello world5\\nhello world5\\n') # 그냥 덮어 써버림\n",
        "f.seek(0)\n",
        "print(f.read())\n",
        "f.close()\n",
        "# r+모드와 차이: 파일 포인터가 r+는 파일의 시작 부분, a+는 끝 부분"
      ]
    },
    {
      "cell_type": "code",
      "execution_count": null,
      "metadata": {
        "id": "EVv0y02IUvkq"
      },
      "outputs": [],
      "source": [
        "f = open('python.txt', 'a+') # 포인터가 끝\n",
        "print(f.read())\n",
        "f.close()"
      ]
    },
    {
      "cell_type": "code",
      "execution_count": null,
      "metadata": {
        "id": "Bd1OUx6_UpJx"
      },
      "outputs": [],
      "source": [
        "sum([1, 2, 3], 100)\n",
        "\n",
        "sum([[1, 2, 3], [4, 5, 6], [7, 8, 9]], [])\n",
        "# [1, 2, 3] + [] == [1, 2, 3]\n",
        "# [4, 5, 6] + [1, 2, 3] == [4, 5, 6, 1, 2, 3]\n",
        "# [7, 8, 9] + [4, 5, 6, 1, 2, 3] == [7, 8, 9, 4, 5, 6, 1, 2, 3]"
      ]
    },
    {
      "cell_type": "code",
      "execution_count": null,
      "metadata": {
        "id": "BgObNZO5UlEm"
      },
      "outputs": [],
      "source": [
        "matrix = [[1,2,3], [4,5,6], [7,8,9]]\n",
        "# 이걸 더하는 방법이 있었다구?\n",
        "sum(sum(matrix,[]))"
      ]
    },
    {
      "cell_type": "code",
      "execution_count": null,
      "metadata": {
        "id": "ayZRFJcrQDUx"
      },
      "outputs": [],
      "source": [
        "# 문제 6 트리만들기\n",
        "for i in range(1, 10):\n",
        "    print((' '*(10 - i +1))+('*' * (2*i -1)))\n",
        "\n",
        "#  앞에 공백만 주면 되는데 어떻게 줄까요?\n",
        "\n",
        "#         *\n",
        "#        ***\n",
        "#       *****\n",
        "#      *******\n",
        "#     *********\n",
        "#    ***********\n",
        "#   *************\n",
        "#  ***************\n",
        "# *****************"
      ]
    },
    {
      "cell_type": "code",
      "execution_count": null,
      "metadata": {
        "id": "zopLcBnvHRzR"
      },
      "outputs": [],
      "source": [
        "for i in range(1, 10):\n",
        "    print(f\"{'*' * ((2 * i) - 1):^18}\")"
      ]
    },
    {
      "cell_type": "code",
      "execution_count": null,
      "metadata": {
        "id": "eWCCWRLFHPPw"
      },
      "outputs": [],
      "source": [
        "#  다음 클래스를 만들어주세요.\n",
        "#  데이터는 <1,2,3,4> 형식의 숫자만 저장됩니다.\n",
        "#  print()를 하면 <1,2,3,4>와 같이 출력이 되어야 합니다.\n",
        "# 메서드는 append, remove 가 있습니다.\n",
        "#  <1,2,3,4> + <1,2,3,4> == <2,4,6,8>과 같이 같은 순서의 요소를 더합니다.\n",
        "# <1,2,3,4> - <1,2,1,2> == <0,0,2,2>와 같이 같은 순서의 요소를 뺍니다.\n",
        "#  <1,2,3,4> * 3 == <3,6,9,12>가 됩니다.\n",
        "# 나누기는 지원하지 않습니다.\n",
        "\n",
        "class OperList:\n",
        "\n",
        "    def __init__(self, *args):\n",
        "        self = [arg for arg in args]\n",
        "\n",
        "\n",
        "\n",
        "k = OperList(1,2,3,4)\n",
        "# l.append(5)\n",
        "# print(l+ll) => 출력: <2,4,6,8,10>\n",
        "print(k)"
      ]
    },
    {
      "cell_type": "code",
      "execution_count": null,
      "metadata": {
        "id": "MIIZuwY3EFEy"
      },
      "outputs": [],
      "source": [
        "class OperList:\n",
        "    def __init__(self, *args):\n",
        "        self.__operlist = list(args)\n",
        "\n",
        "    def __str__(self):\n",
        "        return f'<{str(self.__operlist)[1:-1]}>'\n",
        "\n",
        "    def __repr__(self):\n",
        "        return f'<{str(self.__operlist)[1:-1]}>'\n",
        "\n",
        "l = OperList(1,2,3,4)\n",
        "\n",
        "# l.append(5)\n",
        "# print(l+ll) => 출력: <2,4,6,8,10>\n",
        "print(l)\n",
        "l"
      ]
    },
    {
      "cell_type": "code",
      "execution_count": null,
      "metadata": {
        "id": "pXtU5IMcCv9n"
      },
      "outputs": [],
      "source": [
        "class OperList:\n",
        "    def __init__(self, *args):\n",
        "\n",
        "        self.__operlist = list(args)\n",
        "\n",
        "    def __str__(self):\n",
        "        return f'<{str(self.__operlist)[1:-1]}>'\n",
        "\n",
        "    def __repr__(self):\n",
        "        return f'<{str(self.__operlist)[1:-1]}>'\n",
        "\n",
        "    def __len__(self):\n",
        "        return self.__operlist.__len__()\n",
        "\n",
        "    def __add__(self, other):\n",
        "        if len(self.__operlist) != len(other.__operlist):\n",
        "            raise\n",
        "        for i in range(len(self.__operlist)):\n",
        "            self.__operlist[i] += other.__operlist[i]\n",
        "        return self.__operlist\n",
        "\n",
        "    def __sub__(self, other):\n",
        "        if len(self.__operlist) != len(other.__operlist):\n",
        "            raise\n",
        "        for i in range(len(self.__operlist)):\n",
        "            self.__operlist[i] -= other.__operlist[i]\n",
        "        return self.__operlist\n",
        "\n",
        "    def __mul__(self, other):\n",
        "        if not isinstance(other, int):\n",
        "            raise\n",
        "        for i in range(len(self.__operlist)):\n",
        "            self.__operlist[i] *= other\n",
        "        return self.__operlist\n",
        "\n",
        "    def append(self, data):\n",
        "        self.__operlist.append(data)\n",
        "\n",
        "    def remove(self, data):\n",
        "        self.__operlist.remove(data)\n",
        "\n",
        "\n",
        "l = OperList(1, 2, 3, 4)\n",
        "ll = OperList(3, 4, 6, 7)\n",
        "print(l + ll)\n",
        "print(l * 2)"
      ]
    },
    {
      "cell_type": "code",
      "execution_count": null,
      "metadata": {
        "id": "pjGntaGVCrcc"
      },
      "outputs": [],
      "source": [
        "class OperList:\n",
        "    def __init__(self, *args):\n",
        "\n",
        "        self.__operlist = list(args)\n",
        "\n",
        "    def __str__(self):\n",
        "        return f'<{str(self.__operlist)[1:-1]}>'\n",
        "\n",
        "    def __repr__(self):\n",
        "        return f'<{str(self.__operlist)[1:-1]}>'\n",
        "\n",
        "    def __len__(self):\n",
        "        return self.__operlist.__len__()\n",
        "\n",
        "    def __add__(self, other):\n",
        "        if len(self.__operlist) != len(other.__operlist):\n",
        "            raise\n",
        "        for i in range(len(self.__operlist)):\n",
        "            self.__operlist[i] += other.__operlist[i]\n",
        "        return f'<{str(self.__operlist)[1:-1]}>'\n",
        "\n",
        "    def __sub__(self, other):\n",
        "        if len(self.__operlist) != len(other.__operlist):\n",
        "            raise\n",
        "        for i in range(len(self.__operlist)):\n",
        "            self.__operlist[i] -= other.__operlist[i]\n",
        "        return f'<{str(self.__operlist)[1:-1]}>'\n",
        "\n",
        "    def __mul__(self, other):\n",
        "        if not isinstance(other, int):\n",
        "            raise\n",
        "        for i in range(len(self.__operlist)):\n",
        "            self.__operlist[i] *= other\n",
        "        return f'<{str(self.__operlist)[1:-1]}>'\n",
        "\n",
        "    def append(self, data):\n",
        "        self.__operlist.append(data)\n",
        "\n",
        "    def remove(self, data):\n",
        "        self.__operlist.remove(data)\n",
        "\n",
        "\n",
        "l = OperList(1, 2, 3, 4)\n",
        "ll = OperList(3, 4, 6, 7)\n",
        "print(l + ll)\n",
        "print(l * 2)\n",
        "print(l-ll)"
      ]
    },
    {
      "cell_type": "code",
      "execution_count": null,
      "metadata": {
        "id": "9ZbSQ4fnCgt6"
      },
      "outputs": [],
      "source": [
        "# student.csv에는 아래와 같은 텍스트가 담겨있습니다.\n",
        "# 학년,반,번,이름,국어,영어,수학,사회\n",
        "# 3,3,1,licat,90,80,30,40\n",
        "# 3,3,2,mura,80,70,60,30\n",
        "# 3,3,3,binky,30,80,70,30\n",
        "\n",
        "# 학생들의 평균을 구해 아래와 같이 student.csv출력되게 해주세요.(xx이라 표기된 곳에 평균 값이 들어가야 합니다.)\n",
        "# 학년,반,번,이름,국어,영어,수학,사회,평균\n",
        "# 3,3,1,licat,90,80,30,40,xx\n",
        "# 3,3,2,mura,80,70,60,30,xx\n",
        "# 3,3,3,binky,30,80,70,30,xx\n",
        "\n"
      ]
    },
    {
      "cell_type": "code",
      "execution_count": 225,
      "metadata": {
        "id": "-4qWkc4C-WAh"
      },
      "outputs": [],
      "source": [
        "f = open('student.csv', 'w')\n",
        "\n",
        "s = '''학년,반,번,이름,국어,영어,수학,사회\n",
        "3,3,1,licat,90,80,30,40\n",
        "3,3,2,mura,80,70,60,30\n",
        "3,3,3,binky,30,80,70,30\n",
        "'''\n",
        "\n",
        "f.write(s)\n",
        "f.close()"
      ]
    },
    {
      "cell_type": "code",
      "execution_count": null,
      "metadata": {
        "id": "jKjaIReZ-SZG"
      },
      "outputs": [],
      "source": [
        "with open('student.csv', 'r') as f:\n",
        "    lines = f.readlines()\n",
        "\n",
        "td_header = lines[0].strip().split(',')\n",
        "td_header.append('평균')\n",
        "\n",
        "new_header = ','.join(td_header)\n",
        "\n",
        "\n",
        "\n",
        "print(td_header)\n",
        "print(new_header)\n",
        "\n"
      ]
    },
    {
      "cell_type": "code",
      "execution_count": null,
      "metadata": {
        "colab": {
          "base_uri": "https://localhost:8080/",
          "height": 221
        },
        "id": "fJWTzJDF8w2c",
        "outputId": "b6df2974-ec44-440c-82fc-aab468ecd7ff"
      },
      "outputs": [
        {
          "ename": "AttributeError",
          "evalue": "ignored",
          "output_type": "error",
          "traceback": [
            "\u001b[0;31m---------------------------------------------------------------------------\u001b[0m",
            "\u001b[0;31mAttributeError\u001b[0m                            Traceback (most recent call last)",
            "\u001b[0;32m<ipython-input-210-e53272b2ac8e>\u001b[0m in \u001b[0;36m<cell line: 23>\u001b[0;34m()\u001b[0m\n\u001b[1;32m     21\u001b[0m     \u001b[0;32mfor\u001b[0m \u001b[0mline\u001b[0m \u001b[0;32min\u001b[0m \u001b[0moutput_lines\u001b[0m\u001b[0;34m:\u001b[0m\u001b[0;34m\u001b[0m\u001b[0;34m\u001b[0m\u001b[0m\n\u001b[1;32m     22\u001b[0m         \u001b[0moutput_file\u001b[0m\u001b[0;34m.\u001b[0m\u001b[0mwrite\u001b[0m\u001b[0;34m(\u001b[0m\u001b[0mline\u001b[0m \u001b[0;34m+\u001b[0m \u001b[0;34m'\\n'\u001b[0m\u001b[0;34m)\u001b[0m\u001b[0;34m\u001b[0m\u001b[0;34m\u001b[0m\u001b[0m\n\u001b[0;32m---> 23\u001b[0;31m \u001b[0mf\u001b[0m\u001b[0;34m.\u001b[0m\u001b[0mclose\u001b[0m\u001b[0;34m(\u001b[0m\u001b[0;34m)\u001b[0m\u001b[0;34m\u001b[0m\u001b[0;34m\u001b[0m\u001b[0m\n\u001b[0m",
            "\u001b[0;31mAttributeError\u001b[0m: 'function' object has no attribute 'close'"
          ]
        }
      ],
      "source": [
        "\n",
        "with open('student.csv', 'r') as file:\n",
        "    lines = file.readlines()\n",
        "\n",
        "td_header = []\n",
        "header = lines[0].strip().split(',')\n",
        "header.append('평균')\n",
        "td_header.append(','.join(header))\n",
        "\n",
        "for line in lines[1:]:\n",
        "    data = line.strip().split(',')\n",
        "    name = data[3]\n",
        "    scores = [int(score) for score in data[4:]]\n",
        "    average = sum(scores) / len(scores)\n",
        "    data.append(f'{average:.2f}')\n",
        "    td_header.append(','.join(data))\n",
        "\n",
        "with open('output_student.csv', 'w') as output_file:\n",
        "    for line in td_header:\n",
        "        output_file.write(line + '\\n')\n"
      ]
    },
    {
      "cell_type": "code",
      "execution_count": 227,
      "metadata": {
        "id": "nzIxIxYV7JdJ"
      },
      "outputs": [],
      "source": [
        "s = ''\n",
        "with open('student.csv', 'r') as f:\n",
        "    lines = f.readlines()\n",
        "    s += lines[0][:-1] + ',평균'\n",
        "\n",
        "    for i in lines[1:]:\n",
        "        data = i.split(',')\n",
        "        s += f'\\n{i.strip()},{sum(map(int, data[4:])) / len(data[4:])}'\n",
        "\n",
        "with open('student.csv', 'w') as f:\n",
        "    f.write(s)\n"
      ]
    },
    {
      "cell_type": "code",
      "execution_count": null,
      "metadata": {
        "id": "EBNNTq7Q84QZ"
      },
      "outputs": [],
      "source": []
    }
  ],
  "metadata": {
    "colab": {
      "provenance": []
    },
    "kernelspec": {
      "display_name": "Python 3",
      "name": "python3"
    },
    "language_info": {
      "name": "python"
    }
  },
  "nbformat": 4,
  "nbformat_minor": 0
}