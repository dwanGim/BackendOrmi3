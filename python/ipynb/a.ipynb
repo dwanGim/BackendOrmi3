{
  "nbformat": 4,
  "nbformat_minor": 0,
  "metadata": {
    "colab": {
      "provenance": []
    },
    "kernelspec": {
      "name": "python3",
      "display_name": "Python 3"
    },
    "language_info": {
      "name": "python"
    }
  },
  "cells": [
    {
      "cell_type": "markdown",
      "source": [
        "#정규표현식"
      ],
      "metadata": {
        "id": "GgM7REYBOn9M"
      }
    },
    {
      "cell_type": "markdown",
      "source": [
        "#일반 문자열"
      ],
      "metadata": {
        "id": "lWnnk2JyOmlj"
      }
    },
    {
      "cell_type": "code",
      "execution_count": null,
      "metadata": {
        "id": "NJeoS1bEOkiy"
      },
      "outputs": [],
      "source": [
        "# 대소문자를 가립니다.\n",
        "#  ^hello 는 처음에 나오는 hello 입니다.\n",
        "#  그렇다고 hello^가 마지막에 나오는 hello가 아닙니다.\n",
        "#  hello$가 마지막에 나오는 hello에요.\n",
        "#  h.llo 는 h 와 llo 사이에 어떤 문자든 1개의 문자(영문,특수문자,숫자,한글 모두)가 오면 매칭됩니다."
      ]
    },
    {
      "cell_type": "markdown",
      "source": [
        "#대괄호(택1)"
      ],
      "metadata": {
        "id": "zhrvpfb9SzIQ"
      }
    },
    {
      "cell_type": "code",
      "source": [
        "#  h[eao]llo 는 hello, hallo, hollo를 선택합니다. 3개 문자 중 택 1입니다.\n",
        "#  h[eao!왁1]llo 도 특수문자, 숫자, 한글까지 모두 매칭합니다.\n",
        "# [a-zA-Z0-9] 이렇게하면 모든 대소문자 알파벳과 0~9입니다.\n",
        "# [가-힣] 이렇게하면 모든 한글 문자입니다.\n",
        "#  [ㄱ-ㅎ|ㅏ-ㅣ|가-힣] 이렇게 하면 모든 한글의 자모음과 문자입니다.\n",
        "\n",
        "# ^[a-z]  <= 요건 소문자 알파벳으로 시작하는 문자열입니다.\n",
        "#  [^a-z]  <= 대괄호 안에 들어가면 부정입니다.\n",
        "# h[^ao]llo <= a,0 모두 하나씩 아닌 것\n",
        "#  h[a^o]llo <= a, ^, o 모두 하나씩 잡습니다. ^는 대괄호 열기 바로 다음에 나오게 해주세요."
      ],
      "metadata": {
        "id": "9YOO8mieS20D"
      },
      "execution_count": null,
      "outputs": []
    },
    {
      "cell_type": "code",
      "source": [],
      "metadata": {
        "id": "IcFxK6QbS2pR"
      },
      "execution_count": null,
      "outputs": []
    },
    {
      "cell_type": "markdown",
      "source": [
        "#수량자"
      ],
      "metadata": {
        "id": "hpPc3BapZ0q7"
      }
    },
    {
      "cell_type": "code",
      "source": [
        "# _* : 앞에 있는 문자가 0개 ~ N개\n",
        "# _+ : 앞에 있는 문자가 1개 ~ N개\n",
        "# _? : 앞에 있는 문자가 0개 ~ 1개\n",
        "\n",
        "# {3} : 3개\n",
        "# {3,} : 3개 이상\n",
        "# {1,3} : 1개 ~ 3개\n",
        "\n",
        "# _* : 앞에 있는 문자가 0개 ~ N개 ({0,})\n",
        "# _+ : 앞에 있는 문자가 1개 ~ N개({1,})\n",
        "# _? : 앞에 있는 문자가 0개 ~ 1개 ({0,1})\n",
        "\n",
        "# /[0-9]{3}[-.* ][0-9]{4}[-.* ][0-9]{4}/gm\n",
        "# /[0-9a-zA-Z]{2,3}[-.* ][0-9]{3,4}[-.* ][0-9]{4}/gm\n",
        "# /[0-9a-zA-Z]+@[0-9a-zA-Z]+.[a-zA-Z]+/gm\n"
      ],
      "metadata": {
        "id": "6kQBXl1uZ2uw"
      },
      "execution_count": null,
      "outputs": []
    },
    {
      "cell_type": "code",
      "source": [
        "# 이런 정규표현식은 여러분이 직접 만들지 마세요.\n",
        "# 인터넷 검색하면 나와요..email, 전번 등\n",
        "# 왜냐면 정규표현식에서 실수가 생겨 서비스에 CS가 들어온다던지\n",
        "# 크리티컬한 문제가 생긴다던지 하는 경우가 많습니다.\n",
        "#  그래도 읽을 줄은 알아야 겠죠? 여러 패턴을 조합하거나 비교는 해봐야 하니까요!\n",
        "\n",
        "# 전화번호\n",
        "# [0-9][0-9][0-9]-[0-9][0-9][0-9][0-9]-[0-9][0-9][0-9][0-9]\n",
        "\n",
        "# 전화번호\n",
        "# 0[0-9]+[-. ]?[0-9]{3,4}[-. ]?[0-9]{3,4}  <=0고정, 0~9까지"
      ],
      "metadata": {
        "id": "iXSR7Cq9bkVL"
      },
      "execution_count": null,
      "outputs": []
    },
    {
      "cell_type": "code",
      "source": [
        "# group1, group2\n",
        "# group1 => key\n",
        "# group2 => value\n",
        "# ([a-zA-Z0-9@\\.\\-]+, ?[a-zA-Z0-9@\\.\\-]+)\n",
        "\n",
        "\n",
        "[(name, leehojun), (age, 10), (height, 180), (email, paul-lab@naver.com)]"
      ],
      "metadata": {
        "id": "NiN7LKiOdIiR"
      },
      "execution_count": null,
      "outputs": []
    },
    {
      "cell_type": "markdown",
      "source": [
        "#캐릭터 클래스"
      ],
      "metadata": {
        "id": "asHJPoldcJkP"
      }
    },
    {
      "cell_type": "code",
      "source": [
        "# /\\w/gm : 워드 (한글이 잡히지 않습니다!)\n",
        "\n",
        "# /\\w{5} /gm : 5개의 글자와 스페이스 하나\n",
        "# /\\W/gm : not 워드\n",
        "# /\\d/gm : 숫자\n",
        "# /\\D/gm : not 숫자\n",
        "# /\\s/gm : 스페이스\n",
        "# /\\S/gm : not 스페이스\n",
        "\n",
        "#   문제: 전화번호 정규식을 만들어주세요.\n",
        "# \\d{3}\\W?\\d{4}\\W?\\d{4}\n",
        "\n"
      ],
      "metadata": {
        "id": "So1FbPblcLhx"
      },
      "execution_count": null,
      "outputs": []
    }
  ]
}