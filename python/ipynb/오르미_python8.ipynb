{
  "cells": [
    {
      "cell_type": "markdown",
      "metadata": {
        "id": "XnfpOv7qXf-c"
      },
      "source": [
        "#크롤링"
      ]
    },
    {
      "cell_type": "markdown",
      "metadata": {
        "id": "D1xScvt_becu"
      },
      "source": [
        "#http 는 80 포트\n",
        "#https 443 포트 (http+security)"
      ]
    },
    {
      "cell_type": "code",
      "execution_count": null,
      "metadata": {
        "id": "8_9czL0zXYJQ"
      },
      "outputs": [],
      "source": [
        "import requests\n",
        "import bs4"
      ]
    },
    {
      "cell_type": "code",
      "execution_count": null,
      "metadata": {
        "colab": {
          "base_uri": "https://localhost:8080/"
        },
        "id": "PtIDkOt2gGQB",
        "outputId": "a87b71f9-4fb4-4197-8789-e48019d2d048"
      },
      "outputs": [
        {
          "name": "stdout",
          "output_type": "stream",
          "text": [
            "2.31.0\n",
            "4.11.2\n"
          ]
        }
      ],
      "source": [
        "print(requests.__version__) # requests 버전 확인\n",
        "print(bs4.__version__)"
      ]
    },
    {
      "cell_type": "code",
      "execution_count": null,
      "metadata": {
        "colab": {
          "base_uri": "https://localhost:8080/"
        },
        "id": "8GCTpZw_gTPv",
        "outputId": "2ea10b1a-71f8-44ab-e69a-60426d08870b"
      },
      "outputs": [
        {
          "data": {
            "text/plain": [
              "<Response [200]>"
            ]
          },
          "execution_count": 4,
          "metadata": {},
          "output_type": "execute_result"
        }
      ],
      "source": [
        "html = requests.get('http://www.paullab.co.kr/stock.html')\n",
        "html"
      ]
    },
    {
      "cell_type": "code",
      "execution_count": null,
      "metadata": {
        "id": "HEgfOJYmgyyU"
      },
      "outputs": [],
      "source": [
        "# print(type(html))\n",
        "# print(dir(html))\n",
        "\n",
        "# print(html.encoding)\n",
        "# print(html.headers)\n",
        "# print(html.json)\n",
        "# print(html.raw)\n",
        "print(html.text)"
      ]
    },
    {
      "cell_type": "code",
      "execution_count": null,
      "metadata": {
        "id": "Gx23Ri0Fhoh3"
      },
      "outputs": [],
      "source": [
        "# html.encoding = 'utf-8' #한글이 깨져서 나올 때 이러면 됩니다!!!!\n"
      ]
    },
    {
      "cell_type": "code",
      "execution_count": null,
      "metadata": {
        "colab": {
          "base_uri": "https://localhost:8080/",
          "height": 164
        },
        "id": "YmgwWgoQhy0X",
        "outputId": "3fe6c4e7-2af5-4703-9428-6cba0b0e61e2"
      },
      "outputs": [
        {
          "data": {
            "application/vnd.google.colaboratory.intrinsic+json": {
              "type": "string"
            },
            "text/plain": [
              "'<!DOCTYPE html>\\n<html lang=\"ko\">\\n\\n<head>\\n  <meta charset=\"utf-8\">\\n  <meta name=\"viewport\" content=\"width=device-width, initial-scale=1\">\\n  <meta http-equiv=\"X-UA-Compatible\" content=\"ie=edge\">\\n  <!-- 네이버 추적코드 삽입 -->\\n  <meta name=\"naver-site-verification\" content=\"f6051afcd291f3ccef7b8f01128dfc92d14563a4\">\\n  <meta property=\"og:type\" content=\"website\">\\n  <meta property=\"og:title\" content=\"바울랩, 위니브\">\\n  <meta name=\"description\" content=\"제주 ICT 코딩 컴퓨터학원, 연구원, 출판사\">\\n  <meta property=\"og:description\" content=\"제주 ICT 코딩 컴퓨터학원, 연구원, 출판사\">\\n  <meta property=\"og:image\" content=\"http://paullab.co.kr/images/jejucoding.png\">\\n  <meta property=\"og:url\" content=\"http://paullab.co.kr\">\\n  <!-- favicon -->\\n  <link rel=\"shortcut icon\" type=\"image/x-icon\" href=\"favicon.ico\">\\n  <link rel=\"stylesheet\" type=\"text/css\" href=\"https://pro.fontawesome.com/releases/v5.10.0/css/all.css\"\\n    integrity=\"sha384-AYmEC3Yw5cVb3ZcuHtOA93w35dYTsvhLPVnYs9eStHfGJvOvKxVfELGroGkvsg+p\" crossorigin=\"anonymous\">\\n  <link rel=\"stylesheet\" type=\"text/css\" href=\"https://fonts.googleapis.com/css2?family=Nanum+Gothic&display=swap\">\\n  <link rel=\"stylesheet\" type=\"text/css\" href=\"css/reset.css\">\\n  <link rel=\"stylesheet\" type=\"text/css\" href=\"css/style.css\">\\n  <title>Jeju Coding BaseCamp</title>\\n  <!--\\n  구글 Analytics 스크립트 삽입\\n  Global site tag (gtag.js) - Google Analytics\\n  -->\\n  <script async src=\"https://www.googletagmanager.com/gtag/js?id=UA-72047520-1\"></script>\\n  <script>\\n    window.dataLayer = window.dataLayer || [];\\n    function gtag() {\\n      dataLayer.push(arguments);\\n    }\\n    gtag(\"js\", new Date());\\n    gtag(\"config\", \"UA-72047520-1\");\\n  </script>\\n  <!-- //구글 Analytics 스크립트 삽입 -->\\n</head>\\n\\n<body>\\n  <!-- 모바일 세로모드 적용 -->\\n  <div id=\"message\">\\n    <div class=\"message__img\">\\n      <img src=\"images/message_licat.png\" alt=\"메세지_라이캣\" />\\n    </div>\\n    <p>해당 웹 페이지는 가로모드만 지원합니다.</p>\\n  </div>\\n  <!-- //모바일 세로모드 적용 -->\\n  <section id=\"header\">\\n    <div class=\"home\">\\n      <a href=\"index.html\" class=\"home__btn\">\\n        <p>JEJU CODING BASECAMP</p>\\n      </a>\\n    </div>\\n    <!-- 음악 삽입 -->\\n    <!-- 1번_childrens-game by ziv-moran Artlist-->\\n    <div class=\"bgm__button--play\"></div>\\n    <div class=\"bgm__button--pause\"></div>\\n    <!-- <audio loop class=\"bgm\">\\n      <source src=\"https://drive.google.com/uc?export=download&id=1xbevC0q-fNUDuoFCSLUdot0OIO81LgpE\" type=\"audio/mp3\" >\\n    </audio> -->\\n    <!-- //음악삽입 -->\\n    <!-- 새소식 -->\\n    <div class=\"news\" onclick=\"openModal()\">\\n      <div class=\"news__bird\"></div>\\n    </div>\\n    <!-- //새소식 -->\\n  </section>\\n  <!-- main section -->\\n  <section id=\"main-container\">\\n    <h2>메인 컨텐츠</h2>\\n    <div id=\"background-img\"></div>\\n    <div class=\"main__wrapper\">\\n      <!-- jeju-img -->\\n      <div id=\"jeju-img\">\\n        <!-- menu -->\\n        <div class=\"menu__hallasan\">\\n          <a href=\"http://www.jejucodingcamp.com/\" target=\"_blank\">\\n            <img src=\"images/menu_hallasan.png\" class=\"menu__hallasan__img\" alt=\"메뉴_한라산\" />\\n          </a>\\n        </div>\\n        <div class=\"menu menu__paullab\">\\n          <a href=\"about.html\">\\n            <div class=\"menu__paullab--frame\"></div>\\n          </a>\\n          <h4>About</h4>\\n        </div>\\n        <div class=\"menu menu__youtube\">\\n          <a href=\"https://www.youtube.com/channel/UC4GnvNKtuJ4cqWsYjxNxAEQ\" target=\"_blank\">\\n            <div class=\"menu__youtube--python\"></div>\\n            <h4>유튜브</h4>\\n          </a>\\n        </div>\\n        <div class=\"menu menu__store\">\\n          <a href=\" http://smartstore.naver.com/weniv_store\" target=\"_blank\">\\n            <div class=\"menu__store--mura\"></div>\\n          </a>\\n          <h4>Store</h4>\\n        </div>\\n        <div class=\"menu menu__recruitment\">\\n          <a href=\"https://www.notion.so/paullabworkspace/Team-recruitment-c3d8061a76ad40b8a73f4493cf92a263\">\\n            <div class=\"menu__recruitment--gary\"></div>\\n          </a>\\n          <h4>채용 정보</h4>\\n        </div>\\n        <div class=\"menu menu__online_lec\">\\n          <a href=\"https://www.inflearn.com/instructors/170213/courses\" target=\"_blank\">\\n            <div class=\"menu__online_lec--soulgom\"></div>\\n          </a>\\n          <h4>온라인 강의</h4>\\n        </div>\\n        <div class=\"menu menu__intro\">\\n          <a href=\"weniv.html\">\\n            <div class=\"menu__intro--licat\">\\n              <img src=\"images/animation_licat_no_hand.png\" alt=\"animation_licat_no_hand\" />\\n              <img src=\"images/animation_licat_hand.png\" class=\"hand\" alt=\"animation_licat_hand\" />\\n            </div>\\n          </a>\\n          <h4>캐릭터 소개</h4>\\n        </div>\\n        <div class=\"menu menu__referenceroom\">\\n          <a href=\"referenceroom.html\">\\n            <div class=\"menu__referenceroom--javadog\"></div>\\n          </a>\\n          <h4>자료실</h4>\\n        </div>\\n        <div class=\"menu menu__curriculum\">\\n          <a href=\"curriculum.html\">\\n            <div class=\"menu__curriculum--binky\"></div>\\n          </a>\\n          <h4>커리큘럼</h4>\\n        </div>\\n        <!-- //menu -->\\n        <!-- etc -->\\n        <div class=\"windmill scale\">\\n          <div class=\"windmill_base\">\\n            <img src=\"images/windmill_base.png\" alt=\"windmill_base\" />\\n          </div>\\n          <div class=\"windmill--wind\">\\n            <img src=\"images/windmill_wind1.png\" alt=\"wind1\" class=\"wind1\" />\\n            <img src=\"images/windmill_wind1.png\" alt=\"wind2\" class=\"wind2\" />\\n          </div>\\n        </div>\\n        <div class=\"parasol etc\">\\n          <a href=\"http://paullab.co.kr/codefestival.html\">\\n            <img src=\"images/menu_parasol.png\" alt=\"메뉴_파라솔\" />\\n          </a>\\n        </div>\\n        <div class=\"hallabong etc\">\\n          <a href=\"http://paullab.co.kr/stock.html\">\\n            <img src=\"images/menu_hallabong.png\" alt=\"메뉴_한라봉\" />\\n          </a>\\n        </div>\\n        <!-- // etc -->\\n        <!-- dolharbang -->\\n        <div class=\"dolharbang\">\\n          <a href=\"halloffame.html\">\\n            <img src=\"images/menu_dolharbang.png\" alt=\"메뉴_돌하르방\" />\\n          </a>\\n        </div>\\n        <!-- //dolharbang -->\\n        <!-- hallabongTree -->\\n        <div class=\"hallabongTree\">\\n          <a href=\"10000hours.html\">\\n            <img src=\"images/menu_hallabong_tree.png\" alt=\"메뉴_1만시간의법칙\" />\\n          </a>\\n        </div>\\n        <!-- //hallabongTree -->\\n        <!-- supporters -->\\n        <div class=\"supporters\">\\n          <a href=\"https://ambassador.weniv.co.kr/\" target=\"_blank\">\\n            <img src=\"images/menu_supporters.png\" alt=\"메뉴_엠버서더\" />\\n          </a>\\n        </div>\\n        <!-- //supporters -->\\n        <!-- mbit_test -->\\n        <div class=\"mbit_test\">\\n          <a href=\"https://mbit.weniv.co.kr/\" target=\"_blank\">\\n            <img src=\"images/menu_mbit.png\" alt=\"메뉴_mbit테스트\" />\\n          </a>\\n        </div>\\n        <!-- //mbit_test -->\\n      </div>\\n      <!-- //jeju-img -->\\n      <!-- sns -->\\n      <div class=\"sns\">\\n        <div class=\"sns__wrap\">\\n          <div class=\"instagram\">\\n            <a href=\"https://www.instagram.com/weniv_official/\" target=\"_blank\">\\n              <img src=\"images/sns_instagram.png\" alt=\"sns_인스타그램\" />\\n            </a>\\n          </div>\\n          <div class=\"facebook\">\\n            <a href=\"https://www.facebook.com/제주-코딩-베이스캠프-1512494142177634/\" target=\"_blank\">\\n              <img src=\"images/sns_facebook.png\" alt=\"sns_페이스북\" />\\n            </a>\\n          </div>\\n          <div class=\"naver\">\\n            <a href=\"https://blog.naver.com/paul-lab\" target=\"_blank\"><img src=\"images/sns_naverblog.png\"\\n                alt=\"sns_네이버블로그\" /></a>\\n          </div>\\n          <div class=\"tistory\">\\n            <a href=\"https://paullab.tistory.com\" target=\"_blank\"><img src=\"images/sns_tistory.png\"\\n                alt=\"sns_티스토리\" /></a>\\n          </div>\\n        </div>\\n      </div>\\n      <!-- //sns -->\\n    </div>\\n    <!-- //main__wrapper -->\\n  </section>\\n  <!-- //main section -->\\n\\n  <!-- 모달 -->\\n  <div id=\"modal\">\\n    <div class=\"modal__wrap\">\\n      <div class=\"modal__window\">\\n        <div class=\"modal__header\">\\n          <div class=\"modal__title\">\\n            <p>\\n              새 소 식\\n            </p>\\n          </div>\\n          <div class=\"close__btn\" onclick=\"closeModal()\">\\n            <i class=\"fas fa-times\"></i>\\n          </div>\\n        </div>\\n        <div class=\"modal__content\">\\n          <!-- 새로운 공지는 post 클래스 복사 -->\\n          <!-- post 1 -->\\n          <div class=\"post\">\\n            <div class=\"post__img\">\\n            </div>\\n            <div class=\"post__item\">\\n              <h4 class=\"post__title\">\\n                바울랩 오프라인 강좌 공지!\\n              </h4>\\n              <p class=\"post__explanation\">\\n                현재 접수 중인 오프라인 강좌가 없습니다. 아래 링크를 통해 온라인 강좌를 확인해 주세요.\\n              </p>\\n              <a href=\"https://www.inflearn.com/instructors/170213/courses\" target=\"_blank\" class=\"readmore__btn\">\\n                <i class=\"fa fa-arrow-circle-right\"></i> 제코베 온라인 강좌 알아보기🏃\\u200d♂️\\n              </a>\\n            </div>\\n          </div>\\n          <!-- post1 -->\\n\\n          <!-- post2 -->\\n          <div class=\"post\">\\n            <div class=\"post__item\">\\n              <h4 class=\"post__title\">\\n                단체 카톡방 공지!🧚\\u200d♀️\\n              </h4>\\n              <p class=\"post__explanation\">\\n                제주 ICT관련 정보, 행사 정보, 전국 ICT 정보, 행사 정보, 채용정보, 개강정보 등을 단톡방을 통해 드리고 있습니다.<br>\\n                대화는 하지 않는 단톡방이며, 혹시 단톡방 정보를 받지 못하신\\n                분은 <strong>대표 번호(010-5044-2903)</strong>로 연락주시고, 초대링크를 받아주세요.<br>감사합니다.\\n              </p>\\n            </div>\\n          </div>\\n          <!-- //post 2 -->\\n        </div>\\n        <div class=\"modal__footer\"></div>\\n      </div>\\n    </div>\\n  </div>\\n  <!-- //모달 -->\\n\\n  <script type=\"text/javascript\">\\n    const bird = document.querySelector(\".bird\");\\n    const modal = document.querySelector(\"#modal\");\\n    function openModal() {\\n      modal.classList.add(\"on\");\\n    }\\n    function closeModal() {\\n      modal.classList.remove(\"on\");\\n    }\\n    window.onclick = function (event) {\\n      if (event.target == modal) {\\n        modal.classList.remove(\"on\");\\n      }\\n    };\\n    window.addEventListener(\"onclick\", openModal);\\n    window.addEventListener(\"onclick\", closeModal);\\n\\n    //음악 재생\\n    const bgm_button_play = document.querySelector(\\'.bgm__button--play\\');\\n    const bgm_button_pause = document.querySelector(\\'.bgm__button--pause\\');\\n    const portraitMedia = window.matchMedia(\\'only screen and (orientation: portrait)\\');\\n\\n    const audio = new Audio();\\n    audio.src = \"https://drive.google.com/uc?export=download&id=1xbevC0q-fNUDuoFCSLUdot0OIO81LgpE\";\\n    audio.autoplay = true;\\n    audio.loop = true;\\n\\n    if (audio.paused) {\\n      bgm_button_play.classList.add(\\'bgm__button--disactive\\');\\n      bgm_button_pause.classList.add(\\'bgm__button--active\\');\\n    }\\n\\n    function musicPlay() {\\n      if (audio.paused) {\\n        audio.play();\\n        bgm_button_play.classList.add(\\'bgm__button--disactive\\');\\n        bgm_button_pause.classList.add(\\'bgm__button--active\\');\\n        document.removeEventListener(\\'click\\', musicPlay);\\n      } else {\\n        audio.pause();\\n        audio.currentTime = 0;\\n        bgm_button_play.classList.remove(\\'bgm__button--disactive\\');\\n        bgm_button_pause.classList.remove(\\'bgm__button--active\\');\\n      }\\n    }\\n    window.onresize = function () {\\n      if (portraitMedia.matches == true) {\\n        console.log(\\'stop\\');\\n        musicStop();\\n      }\\n    };\\n    bgm_button_play.addEventListener(\\'click\\', musicPlay);\\n    document.addEventListener(\\'click\\', musicPlay);\\n    bgm_button_pause.addEventListener(\\'click\\', musicPlay);\\n\\n    //페이지 어디든지 클릭만 하게하면 음악재생\\n    // function musicPlay(){\\n    // document.getElementById(\\'bgm\\').play();\\n    // document.removeEventListener(\\'click\\', musicPlay);\\n    // }\\n    // document.addEventListener(\\'click\\', musicPlay);\\n  </script>\\n</body>\\n\\n</html>'"
            ]
          },
          "execution_count": 14,
          "metadata": {},
          "output_type": "execute_result"
        }
      ],
      "source": [
        "params = {'pa1': 'val1', 'pa2': 'value2'}\n",
        "response = requests.get('http://www.paullab.co.kr', params=params)\n",
        "\n",
        "response.text"
      ]
    },
    {
      "cell_type": "code",
      "execution_count": null,
      "metadata": {
        "id": "-V15QuYSjTYn"
      },
      "outputs": [],
      "source": [
        "import time\n",
        "\n",
        "for i in range(10):\n",
        "    response = requests.get('http://habitmaker.co.kr/')"
      ]
    },
    {
      "cell_type": "code",
      "execution_count": 112,
      "metadata": {
        "id": "vJS-WqzPkvpH"
      },
      "outputs": [],
      "source": [
        "import requests\n",
        "from bs4 import BeautifulSoup\n",
        "\n",
        "response = requests.get('http://www.paullab.co.kr/stock.html')\n",
        "response.encoding = 'utf-8'\n",
        "html = response.text\n",
        "\n",
        "soup = BeautifulSoup(html, 'html.parser') # 원하는 문자열로 잘라줌\n",
        "\n",
        "# print(soup)"
      ]
    },
    {
      "cell_type": "code",
      "execution_count": null,
      "metadata": {
        "id": "M5vuFEhylOfe"
      },
      "outputs": [],
      "source": [
        "print(soup.prettify())"
      ]
    },
    {
      "cell_type": "code",
      "execution_count": null,
      "metadata": {
        "id": "qZGH3ifDlmkd"
      },
      "outputs": [],
      "source": [
        "print(soup.findAll)"
      ]
    },
    {
      "cell_type": "code",
      "execution_count": null,
      "metadata": {
        "colab": {
          "base_uri": "https://localhost:8080/"
        },
        "id": "4f8tbcdlmQzH",
        "outputId": "10f407cc-6094-44bd-e9d8-fd83ae6a29b5"
      },
      "outputs": [
        {
          "name": "stdout",
          "output_type": "stream",
          "text": [
            "[<span id=\"update\">update : 20.12.30 / 해외 크롤링이 Block되어 있으므로 크롤링이 안되시는 분은 이 URL(http://paullab.synology.me/stock.html)을 사용하세요.</span>]\n"
          ]
        }
      ],
      "source": [
        "print(soup.select('#update'))\n",
        "print(soup.select('#update'))"
      ]
    },
    {
      "cell_type": "code",
      "execution_count": null,
      "metadata": {
        "colab": {
          "base_uri": "https://localhost:8080/"
        },
        "id": "ucBUER57mpdE",
        "outputId": "0a73ad47-bc1f-48ff-931f-302489d1c3a6"
      },
      "outputs": [
        {
          "name": "stdout",
          "output_type": "stream",
          "text": [
            "<em id=\"_market_sum\">349조 2,323</em>\n",
            "349조 2,323\n"
          ]
        }
      ],
      "source": [
        "print(soup.select('#_market_sum')[0])\n",
        "print(soup.select('#_market_sum')[0].text)"
      ]
    },
    {
      "cell_type": "code",
      "execution_count": null,
      "metadata": {
        "colab": {
          "base_uri": "https://localhost:8080/",
          "height": 35
        },
        "id": "0iJU7efCnHpu",
        "outputId": "a8ccb862-d12f-445f-87c6-18c880d9eb76"
      },
      "outputs": [
        {
          "data": {
            "application/vnd.google.colaboratory.intrinsic+json": {
              "type": "string"
            },
            "text/plain": [
              "'398,421'"
            ]
          },
          "execution_count": 40,
          "metadata": {},
          "output_type": "execute_result"
        }
      ],
      "source": [
        "soup.select('.table > tbody > tr')[1].select('td')[6].text"
      ]
    },
    {
      "cell_type": "code",
      "execution_count": null,
      "metadata": {
        "id": "7FxL1ClgueZH"
      },
      "outputs": [],
      "source": [
        "# 문제1 https://www.paullab.co.kr/stock.html 서비스를 크롤링하여 제주코딩베이스캠프 연구원의 2019년 10월 총 거래량을 구해주세요.\n",
        "\n",
        "# 문제2 html에서 태그를 제거하고 텍스트만 뽑아낼 수 있도록 해주세요.\n",
        "# '<p>This is a <em>simple</em> example.</p>'\n",
        "\n",
        "# 문제3 아래 텍스트에서 이메일만 추출할 수 있는 정규표현식을 만들어주세요.\n",
        "# '제 이메일 주소는 example1@gmail.com이고 회사 이메일 주소는 example2@gmail.com 입니다. example1로 연락을 주셨다면 제게 메시지 한 번 부탁드립니다.'"
      ]
    },
    {
      "cell_type": "code",
      "execution_count": 113,
      "metadata": {
        "colab": {
          "base_uri": "https://localhost:8080/",
          "height": 35
        },
        "id": "hzaRYuW8ujf7",
        "outputId": "87d61dfe-538c-4fc8-c470-feb982312c34"
      },
      "outputs": [
        {
          "output_type": "execute_result",
          "data": {
            "text/plain": [
              "'제코배 2019.10 총 거래량 :  10,895,826'"
            ],
            "application/vnd.google.colaboratory.intrinsic+json": {
              "type": "string"
            }
          },
          "metadata": {},
          "execution_count": 113
        }
      ],
      "source": [
        "# 문제1\n",
        "table_html = soup.select('#제주코딩베이스캠프연구원 ~ table')\n",
        "\n",
        "def solution(str_date):\n",
        "    total = 0\n",
        "\n",
        "    for tr in table_html[0].select('tr')[1:]:\n",
        "        # print(tr)\n",
        "        td_list = tr.select('td')\n",
        "        # print(td_list)\n",
        "        date = td_list[0].text\n",
        "        amount = td_list[6].text\n",
        "\n",
        "        if date.startswith(str_date):\n",
        "            amount = int(amount.replace(',',''))\n",
        "            total += amount\n",
        "\n",
        "    return f'제코배연구원 2019.10 총 거래량 :  {total:,}'\n",
        "\n",
        "solution('2019.10')\n",
        "\n",
        "\n",
        "\n",
        "    # # date = td_list[1]\n",
        "    # print(date)\n",
        "    # print(amount)"
      ]
    },
    {
      "cell_type": "code",
      "execution_count": null,
      "metadata": {
        "id": "u6dBVhhFyZZs",
        "colab": {
          "base_uri": "https://localhost:8080/",
          "height": 35
        },
        "outputId": "1afac59c-e95a-424f-da86-59611c3e7f10"
      },
      "outputs": [
        {
          "output_type": "execute_result",
          "data": {
            "text/plain": [
              "'This is a simple example.'"
            ],
            "application/vnd.google.colaboratory.intrinsic+json": {
              "type": "string"
            }
          },
          "metadata": {},
          "execution_count": 104
        }
      ],
      "source": [
        "# 문제2 html에서 태그를 제거하고 텍스트만 뽑아낼 수 있도록 해주세요.\n",
        "# '<p>This is a <em>simple</em> example.</p>'\n",
        "\n",
        "html = '<p>This is a <em>simple</em> example.</p>'\n",
        "\n",
        "soup = BeautifulSoup(html, 'html.parser')\n",
        "text = soup.text\n",
        "text"
      ]
    },
    {
      "cell_type": "code",
      "source": [
        "# 문제3 아래 텍스트에서 이메일만 추출할 수 있는 정규표현식을 만들어주세요.\n",
        "# '제 이메일 주소는 example1@gmail.com이고 회사 이메일 주소는 example2@gmail.com 입니다. example1로 연락을 주셨다면 제게 메시지 한 번 부탁드립니다.'\n",
        "\n",
        "import re\n",
        "\n",
        "text = '제 이메일 주소는 example1@gmail.com이고 회사 이메일 주소는 example2@gmail.com 입니다. example1로 연락을 주셨다면 제게 메시지 한 번 부탁드립니다.'\n",
        "\n",
        "email_pattern = re.compile(r'\\S+@\\S+\\.\\w{2,3}')\n",
        "\n",
        "def solution(pattern, text):\n",
        "    return pattern.findall(text)\n",
        "\n",
        "solution(email_pattern, text)"
      ],
      "metadata": {
        "id": "lHy9FUcK8h1B",
        "colab": {
          "base_uri": "https://localhost:8080/"
        },
        "outputId": "2dc5e2d7-f3d6-4049-92ac-bfe04f6ca168"
      },
      "execution_count": 118,
      "outputs": [
        {
          "output_type": "execute_result",
          "data": {
            "text/plain": [
              "['example1@gmail.com', 'example2@gmail.com']"
            ]
          },
          "metadata": {},
          "execution_count": 118
        }
      ]
    },
    {
      "cell_type": "code",
      "source": [],
      "metadata": {
        "id": "DPY6P5uL8im5"
      },
      "execution_count": null,
      "outputs": []
    }
  ],
  "metadata": {
    "colab": {
      "provenance": [],
      "toc_visible": true
    },
    "kernelspec": {
      "display_name": "Python 3",
      "name": "python3"
    },
    "language_info": {
      "name": "python"
    }
  },
  "nbformat": 4,
  "nbformat_minor": 0
}