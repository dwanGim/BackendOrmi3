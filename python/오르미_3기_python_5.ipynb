{
  "nbformat": 4,
  "nbformat_minor": 0,
  "metadata": {
    "colab": {
      "provenance": []
    },
    "kernelspec": {
      "name": "python3",
      "display_name": "Python 3"
    },
    "language_info": {
      "name": "python"
    }
  },
  "cells": [
    {
      "cell_type": "markdown",
      "source": [
        "#클래스"
      ],
      "metadata": {
        "id": "gcLz9_q7MIiy"
      }
    },
    {
      "cell_type": "code",
      "source": [
        "class Car : #차의 설계 도면 또는 차 공정입니다. => 클래스\n",
        "    max_speed = 300\n",
        "    max_people = 5\n",
        "    car_gear = ['P', 'D', \"R\", 'N']\n",
        "\n",
        "    def start(self):\n",
        "        print('차가 출발합니다.')\n",
        "    def stop(self):\n",
        "        print('차가 멈췄습니다.')\n",
        "\n",
        "\n",
        "#테슬라 공장에서 막 찍혀져 나온 자동차!\n",
        "#  3개의 모델 x,y,s => 인스턴스\n",
        "#  즉 인스턴스 ==> 클래스()\n",
        "modelx = Car()\n",
        "modely = Car()\n",
        "models = Car()\n",
        "\n",
        "# modelx의 max_speed를 보고 싶으면 modelx.max_speed 라고 해주세요.\n",
        "modelx.max_speed"
      ],
      "metadata": {
        "colab": {
          "base_uri": "https://localhost:8080/"
        },
        "id": "gOmOj5RCMH-t",
        "outputId": "8072fb8d-8cc3-46b4-bcec-58f07841df45"
      },
      "execution_count": 3,
      "outputs": [
        {
          "output_type": "execute_result",
          "data": {
            "text/plain": [
              "300"
            ]
          },
          "metadata": {},
          "execution_count": 3
        }
      ]
    },
    {
      "cell_type": "code",
      "source": [
        "print(models.car_gear[2])\n",
        "models.start()\n",
        "models.stop()\n"
      ],
      "metadata": {
        "colab": {
          "base_uri": "https://localhost:8080/"
        },
        "id": "qmAjDSZnNpaN",
        "outputId": "1b39e13e-90b6-4dd2-dc6f-a73e043f394e"
      },
      "execution_count": 6,
      "outputs": [
        {
          "output_type": "stream",
          "name": "stdout",
          "text": [
            "R\n",
            "차가 출발합니다.\n",
            "차가 멈췄습니다.\n"
          ]
        }
      ]
    },
    {
      "cell_type": "code",
      "source": [
        "print(type(models))\n",
        "dir(models)"
      ],
      "metadata": {
        "colab": {
          "base_uri": "https://localhost:8080/"
        },
        "id": "iScvRTQrODlS",
        "outputId": "b0dabf7d-5211-43fa-b851-5632da5283ad"
      },
      "execution_count": 8,
      "outputs": [
        {
          "output_type": "stream",
          "name": "stdout",
          "text": [
            "<class '__main__.Car'>\n"
          ]
        },
        {
          "output_type": "execute_result",
          "data": {
            "text/plain": [
              "['__class__',\n",
              " '__delattr__',\n",
              " '__dict__',\n",
              " '__dir__',\n",
              " '__doc__',\n",
              " '__eq__',\n",
              " '__format__',\n",
              " '__ge__',\n",
              " '__getattribute__',\n",
              " '__gt__',\n",
              " '__hash__',\n",
              " '__init__',\n",
              " '__init_subclass__',\n",
              " '__le__',\n",
              " '__lt__',\n",
              " '__module__',\n",
              " '__ne__',\n",
              " '__new__',\n",
              " '__reduce__',\n",
              " '__reduce_ex__',\n",
              " '__repr__',\n",
              " '__setattr__',\n",
              " '__sizeof__',\n",
              " '__str__',\n",
              " '__subclasshook__',\n",
              " '__weakref__',\n",
              " 'car_gear',\n",
              " 'max_people',\n",
              " 'max_speed',\n",
              " 'start',\n",
              " 'stop']"
            ]
          },
          "metadata": {},
          "execution_count": 8
        }
      ]
    },
    {
      "cell_type": "code",
      "source": [
        "class Car:\n",
        "    max_speed = 300\n",
        "    max_people = 5\n",
        "    car_gear = ['P', 'D', 'R', 'N']\n",
        "\n",
        "    def __init__(self, name):\n",
        "        self.name = name\n",
        "\n",
        "    def start(self):\n",
        "        print('차가 출발합니다!')\n",
        "\n",
        "    def stop(self):\n",
        "        print('차가 멈췄습니다!')\n",
        "\n",
        "modelx = Car('Tesla Model X')\n",
        "modelx.name"
      ],
      "metadata": {
        "colab": {
          "base_uri": "https://localhost:8080/",
          "height": 35
        },
        "id": "l4NBbSSpOp94",
        "outputId": "043f048f-b528-4be8-fa53-662542f8b681"
      },
      "execution_count": 11,
      "outputs": [
        {
          "output_type": "execute_result",
          "data": {
            "text/plain": [
              "'Tesla Model X'"
            ],
            "application/vnd.google.colaboratory.intrinsic+json": {
              "type": "string"
            }
          },
          "metadata": {},
          "execution_count": 11
        }
      ]
    },
    {
      "cell_type": "code",
      "source": [
        "# 실제 게임 코드\n",
        "class Character:\n",
        "    def __init__(self, name, role, hp, mp, power):\n",
        "        self.name = name\n",
        "        self.role = role\n",
        "        self.hp = hp\n",
        "        self.mp = mp\n",
        "        self.power = power\n",
        "\n",
        "    def attack(self):\n",
        "        print('공격!')\n",
        "\n",
        "    def defence(self):\n",
        "        print('방어!')\n",
        "\n",
        "hero_ironman = Character('아이언맨', '히어로', 100, 100, 100)\n",
        "villain_thanos = Character('타노스', '빌런', 100, 100, 200)\n",
        "# 여러 등장인물을 이런식으로 코딩할 수 있습니다.\n",
        "\n",
        "print(hero_ironman)\n",
        "print(villain_thanos)"
      ],
      "metadata": {
        "colab": {
          "base_uri": "https://localhost:8080/"
        },
        "id": "sCpz3uPbVRu2",
        "outputId": "dc8d1bc5-fba4-47d1-b1f8-f51bb4ce65b8"
      },
      "execution_count": 14,
      "outputs": [
        {
          "output_type": "stream",
          "name": "stdout",
          "text": [
            "<__main__.Character object at 0x7b4173f91e10>\n",
            "<__main__.Character object at 0x7b4173f91090>\n"
          ]
        }
      ]
    },
    {
      "cell_type": "code",
      "source": [
        "class Person:\n",
        "    name = 'jun' #클래스 변수\n",
        "    def __init__(self, name):\n",
        "        self.name = name #인스턴스 변수\n",
        "\n",
        "hojun = Person('hojun')\n",
        "hojun.name, Person.name"
      ],
      "metadata": {
        "colab": {
          "base_uri": "https://localhost:8080/"
        },
        "id": "zdEpRFD_Wf6H",
        "outputId": "19e7b170-5705-48ad-942d-66cd997cc791"
      },
      "execution_count": 15,
      "outputs": [
        {
          "output_type": "execute_result",
          "data": {
            "text/plain": [
              "('hojun', 'jun')"
            ]
          },
          "metadata": {},
          "execution_count": 15
        }
      ]
    },
    {
      "cell_type": "code",
      "source": [
        "class Car:\n",
        "    max_speed = 300\n",
        "\n",
        "    def __init__(self, name):\n",
        "        self.name = name\n",
        "\n",
        "    def start(self):\n",
        "        print('차가 출발합니다!')\n",
        "\n",
        "modelx = Car('Tesla Model X')\n",
        "modelx.name"
      ],
      "metadata": {
        "colab": {
          "base_uri": "https://localhost:8080/",
          "height": 35
        },
        "id": "t2P9SXNEXGpB",
        "outputId": "c06a9e88-1ba4-4b76-e2a3-c148c9863b06"
      },
      "execution_count": 16,
      "outputs": [
        {
          "output_type": "execute_result",
          "data": {
            "text/plain": [
              "'Tesla Model X'"
            ],
            "application/vnd.google.colaboratory.intrinsic+json": {
              "type": "string"
            }
          },
          "metadata": {},
          "execution_count": 16
        }
      ]
    },
    {
      "cell_type": "code",
      "source": [
        "modelx.hello = 'hello world'"
      ],
      "metadata": {
        "id": "gMp2ewTKXQPh"
      },
      "execution_count": 17,
      "outputs": []
    },
    {
      "cell_type": "code",
      "source": [
        "modelx.hello"
      ],
      "metadata": {
        "colab": {
          "base_uri": "https://localhost:8080/",
          "height": 35
        },
        "id": "L3YMXHWpXbuz",
        "outputId": "8cf128ec-6457-4203-b020-aa8414ac7f72"
      },
      "execution_count": 18,
      "outputs": [
        {
          "output_type": "execute_result",
          "data": {
            "text/plain": [
              "'hello world'"
            ],
            "application/vnd.google.colaboratory.intrinsic+json": {
              "type": "string"
            }
          },
          "metadata": {},
          "execution_count": 18
        }
      ]
    },
    {
      "cell_type": "code",
      "source": [
        "def hello():\n",
        "    print('hello world')\n",
        "\n",
        "print(type(hello))\n"
      ],
      "metadata": {
        "colab": {
          "base_uri": "https://localhost:8080/"
        },
        "id": "zhZXE42mXdhu",
        "outputId": "63b8638c-8496-4f8f-9e76-eafa734de790"
      },
      "execution_count": 19,
      "outputs": [
        {
          "output_type": "stream",
          "name": "stdout",
          "text": [
            "<class 'function'>\n"
          ]
        }
      ]
    },
    {
      "cell_type": "code",
      "source": [
        "hello.hi = 'hi . world'"
      ],
      "metadata": {
        "id": "kGLbPL3uXt1J"
      },
      "execution_count": 20,
      "outputs": []
    },
    {
      "cell_type": "code",
      "source": [
        "hello.hi"
      ],
      "metadata": {
        "colab": {
          "base_uri": "https://localhost:8080/",
          "height": 35
        },
        "id": "yrdwdhYoXyLe",
        "outputId": "5ee318a9-98db-4109-d917-9d860ecaeaba"
      },
      "execution_count": 21,
      "outputs": [
        {
          "output_type": "execute_result",
          "data": {
            "text/plain": [
              "'hi . world'"
            ],
            "application/vnd.google.colaboratory.intrinsic+json": {
              "type": "string"
            }
          },
          "metadata": {},
          "execution_count": 21
        }
      ]
    },
    {
      "cell_type": "code",
      "source": [
        "s = 10\n",
        "s.hi = 'hi . world'\n",
        "s.hi"
      ],
      "metadata": {
        "colab": {
          "base_uri": "https://localhost:8080/",
          "height": 221
        },
        "id": "rU85Tj44X0Ac",
        "outputId": "384a4da0-31c6-4e59-b86d-114f54c0b9d7"
      },
      "execution_count": 22,
      "outputs": [
        {
          "output_type": "error",
          "ename": "AttributeError",
          "evalue": "ignored",
          "traceback": [
            "\u001b[0;31m---------------------------------------------------------------------------\u001b[0m",
            "\u001b[0;31mAttributeError\u001b[0m                            Traceback (most recent call last)",
            "\u001b[0;32m<ipython-input-22-7ca4b4948358>\u001b[0m in \u001b[0;36m<cell line: 2>\u001b[0;34m()\u001b[0m\n\u001b[1;32m      1\u001b[0m \u001b[0ms\u001b[0m \u001b[0;34m=\u001b[0m \u001b[0;36m10\u001b[0m\u001b[0;34m\u001b[0m\u001b[0;34m\u001b[0m\u001b[0m\n\u001b[0;32m----> 2\u001b[0;31m \u001b[0ms\u001b[0m\u001b[0;34m.\u001b[0m\u001b[0mhi\u001b[0m \u001b[0;34m=\u001b[0m \u001b[0;34m'hi . world'\u001b[0m\u001b[0;34m\u001b[0m\u001b[0;34m\u001b[0m\u001b[0m\n\u001b[0m\u001b[1;32m      3\u001b[0m \u001b[0ms\u001b[0m\u001b[0;34m.\u001b[0m\u001b[0mhi\u001b[0m\u001b[0;34m\u001b[0m\u001b[0;34m\u001b[0m\u001b[0m\n",
            "\u001b[0;31mAttributeError\u001b[0m: 'int' object has no attribute 'hi'"
          ]
        }
      ]
    },
    {
      "cell_type": "code",
      "source": [
        "s = 'hello'\n",
        "s.hi = 'hi . world'\n",
        "s.hi"
      ],
      "metadata": {
        "colab": {
          "base_uri": "https://localhost:8080/",
          "height": 221
        },
        "id": "uSpvFCjBX-0a",
        "outputId": "0cbe10c3-9689-4c41-a3a2-9b2ee4f5faa5"
      },
      "execution_count": 23,
      "outputs": [
        {
          "output_type": "error",
          "ename": "AttributeError",
          "evalue": "ignored",
          "traceback": [
            "\u001b[0;31m---------------------------------------------------------------------------\u001b[0m",
            "\u001b[0;31mAttributeError\u001b[0m                            Traceback (most recent call last)",
            "\u001b[0;32m<ipython-input-23-606df08804e1>\u001b[0m in \u001b[0;36m<cell line: 2>\u001b[0;34m()\u001b[0m\n\u001b[1;32m      1\u001b[0m \u001b[0ms\u001b[0m \u001b[0;34m=\u001b[0m \u001b[0;34m'hello'\u001b[0m\u001b[0;34m\u001b[0m\u001b[0;34m\u001b[0m\u001b[0m\n\u001b[0;32m----> 2\u001b[0;31m \u001b[0ms\u001b[0m\u001b[0;34m.\u001b[0m\u001b[0mhi\u001b[0m \u001b[0;34m=\u001b[0m \u001b[0;34m'hi . world'\u001b[0m\u001b[0;34m\u001b[0m\u001b[0;34m\u001b[0m\u001b[0m\n\u001b[0m\u001b[1;32m      3\u001b[0m \u001b[0ms\u001b[0m\u001b[0;34m.\u001b[0m\u001b[0mhi\u001b[0m\u001b[0;34m\u001b[0m\u001b[0;34m\u001b[0m\u001b[0m\n",
            "\u001b[0;31mAttributeError\u001b[0m: 'str' object has no attribute 'hi'"
          ]
        }
      ]
    },
    {
      "cell_type": "code",
      "source": [
        "s = [10,20,30]\n",
        "s.hi = 'hi . world'\n",
        "s.hi"
      ],
      "metadata": {
        "colab": {
          "base_uri": "https://localhost:8080/",
          "height": 221
        },
        "id": "SES4zTa6YBOy",
        "outputId": "5c142b7c-3d0d-4e9d-8c72-748d46234826"
      },
      "execution_count": 24,
      "outputs": [
        {
          "output_type": "error",
          "ename": "AttributeError",
          "evalue": "ignored",
          "traceback": [
            "\u001b[0;31m---------------------------------------------------------------------------\u001b[0m",
            "\u001b[0;31mAttributeError\u001b[0m                            Traceback (most recent call last)",
            "\u001b[0;32m<ipython-input-24-e688f6a90ef9>\u001b[0m in \u001b[0;36m<cell line: 2>\u001b[0;34m()\u001b[0m\n\u001b[1;32m      1\u001b[0m \u001b[0ms\u001b[0m \u001b[0;34m=\u001b[0m \u001b[0;34m[\u001b[0m\u001b[0;36m10\u001b[0m\u001b[0;34m,\u001b[0m\u001b[0;36m20\u001b[0m\u001b[0;34m,\u001b[0m\u001b[0;36m30\u001b[0m\u001b[0;34m]\u001b[0m\u001b[0;34m\u001b[0m\u001b[0;34m\u001b[0m\u001b[0m\n\u001b[0;32m----> 2\u001b[0;31m \u001b[0ms\u001b[0m\u001b[0;34m.\u001b[0m\u001b[0mhi\u001b[0m \u001b[0;34m=\u001b[0m \u001b[0;34m'hi . world'\u001b[0m\u001b[0;34m\u001b[0m\u001b[0;34m\u001b[0m\u001b[0m\n\u001b[0m\u001b[1;32m      3\u001b[0m \u001b[0ms\u001b[0m\u001b[0;34m.\u001b[0m\u001b[0mhi\u001b[0m\u001b[0;34m\u001b[0m\u001b[0;34m\u001b[0m\u001b[0m\n",
            "\u001b[0;31mAttributeError\u001b[0m: 'list' object has no attribute 'hi'"
          ]
        }
      ]
    },
    {
      "cell_type": "code",
      "source": [
        "s = {10,100,'a'}\n",
        "s.hi = 'hi . world'\n",
        "s.hi"
      ],
      "metadata": {
        "colab": {
          "base_uri": "https://localhost:8080/",
          "height": 221
        },
        "id": "s02rW_EdYE-S",
        "outputId": "96a8175a-f8e1-4b23-e885-525219f57142"
      },
      "execution_count": 25,
      "outputs": [
        {
          "output_type": "error",
          "ename": "AttributeError",
          "evalue": "ignored",
          "traceback": [
            "\u001b[0;31m---------------------------------------------------------------------------\u001b[0m",
            "\u001b[0;31mAttributeError\u001b[0m                            Traceback (most recent call last)",
            "\u001b[0;32m<ipython-input-25-3f09b8a69718>\u001b[0m in \u001b[0;36m<cell line: 2>\u001b[0;34m()\u001b[0m\n\u001b[1;32m      1\u001b[0m \u001b[0ms\u001b[0m \u001b[0;34m=\u001b[0m \u001b[0;34m{\u001b[0m\u001b[0;36m10\u001b[0m\u001b[0;34m,\u001b[0m\u001b[0;36m100\u001b[0m\u001b[0;34m,\u001b[0m\u001b[0;34m'a'\u001b[0m\u001b[0;34m}\u001b[0m\u001b[0;34m\u001b[0m\u001b[0;34m\u001b[0m\u001b[0m\n\u001b[0;32m----> 2\u001b[0;31m \u001b[0ms\u001b[0m\u001b[0;34m.\u001b[0m\u001b[0mhi\u001b[0m \u001b[0;34m=\u001b[0m \u001b[0;34m'hi . world'\u001b[0m\u001b[0;34m\u001b[0m\u001b[0;34m\u001b[0m\u001b[0m\n\u001b[0m\u001b[1;32m      3\u001b[0m \u001b[0ms\u001b[0m\u001b[0;34m.\u001b[0m\u001b[0mhi\u001b[0m\u001b[0;34m\u001b[0m\u001b[0;34m\u001b[0m\u001b[0m\n",
            "\u001b[0;31mAttributeError\u001b[0m: 'set' object has no attribute 'hi'"
          ]
        }
      ]
    },
    {
      "cell_type": "code",
      "source": [
        "class Car:\n",
        "    max_speed = 300\n",
        "    max_people = 5\n",
        "    car_gear = ['P', 'D', 'R', 'N']\n",
        "\n",
        "    def __init__(self, name):\n",
        "        self.name = name\n",
        "\n",
        "    def start(self):\n",
        "        print('차가 출발합니다!')\n",
        "\n",
        "    def stop(self):\n",
        "        print('차가 멈췄습니다!')\n",
        "\n",
        "modelx = Car('Tesla Model X')\n",
        "modelx.name"
      ],
      "metadata": {
        "id": "as1mk4rCYJhG"
      },
      "execution_count": null,
      "outputs": []
    },
    {
      "cell_type": "code",
      "source": [
        "class Coordinate:\n",
        "\n",
        "    def __init__(self, x,y)\n",
        "        self.x =x\n",
        "        self.y = y\n",
        "\n",
        "\n",
        "dot1 = Coordinate(10, 20)\n",
        "dot2 = Coordinate(20, 30)\n",
        "dot1+dot2"
      ],
      "metadata": {
        "colab": {
          "base_uri": "https://localhost:8080/"
        },
        "id": "X4B6_eomWbvF",
        "outputId": "0bdf6b34-43a1-40d1-b922-2730563504dc"
      },
      "execution_count": 27,
      "outputs": [
        {
          "output_type": "execute_result",
          "data": {
            "text/plain": [
              "[30, 50]"
            ]
          },
          "metadata": {},
          "execution_count": 27
        }
      ]
    },
    {
      "cell_type": "code",
      "source": [
        "# 저라면 Car에서는 __add__를 구현하지 않았을 겁니다.\n",
        "import math\n",
        "\n",
        "class Point:\n",
        "\n",
        "    def __init__(self, x, y):\n",
        "        self.x = x\n",
        "        self.y = y\n",
        "\n",
        "    def __add__(self, other):\n",
        "        return Point((self.x + other.x), (self.y + other.y))\n",
        "\n",
        "    def distance(self, other):\n",
        "        dx = self.x - other.x\n",
        "        dy = self.y - other.y\n",
        "        return math.sqrt(dx**2 + dy**2)\n",
        "\n",
        "dot1 = Point(10, 20)\n",
        "dot2 = Point(20, 30)\n",
        "\n",
        "dot3 = dot1 + dot2\n",
        "dot3.x, dot3.y\n",
        "dot3.distance(dot1)"
      ],
      "metadata": {
        "colab": {
          "base_uri": "https://localhost:8080/"
        },
        "id": "0FZIB6FGaGv9",
        "outputId": "17e762d2-5abc-4e9c-b704-d4861262d37f"
      },
      "execution_count": 33,
      "outputs": [
        {
          "output_type": "execute_result",
          "data": {
            "text/plain": [
              "36.05551275463989"
            ]
          },
          "metadata": {},
          "execution_count": 33
        }
      ]
    },
    {
      "cell_type": "code",
      "source": [
        "class Matrix:\n",
        "\n",
        "    def __init__(self, value):\n",
        "        self.value = value\n",
        "\n",
        "    def __add__(self, other):\n",
        "        result = []\n",
        "        for i in range(len(self.value)):\n",
        "            result.append(self.value[i] + other.value[i])\n",
        "        return result\n",
        "\n",
        "m1 = Matrix([10, 20, 30])\n",
        "m2 = Matrix([20, 30, 40])\n",
        "\n",
        "m1 + m2"
      ],
      "metadata": {
        "colab": {
          "base_uri": "https://localhost:8080/"
        },
        "id": "sxwVk6zXa9zG",
        "outputId": "88104108-10f1-4572-c6be-81d7da2acaaf"
      },
      "execution_count": 34,
      "outputs": [
        {
          "output_type": "execute_result",
          "data": {
            "text/plain": [
              "[30, 50, 70]"
            ]
          },
          "metadata": {},
          "execution_count": 34
        }
      ]
    },
    {
      "cell_type": "code",
      "source": [
        "class Matrix:\n",
        "\n",
        "    def __init__(self, value):\n",
        "        self.value = value\n",
        "\n",
        "    def __add__(self, other):\n",
        "        result = []\n",
        "        for i in range(len(self.value)):\n",
        "            result.append(self.value[i] + other.value[i])\n",
        "        return result\n",
        "\n",
        "    def __mul__(self, other):\n",
        "        if isinstance(other, int):\n",
        "            return [i*other for i in self.value]\n",
        "        raise TypeError('int형 외에 곱을 허락하지 않습니다!')\n",
        "\n",
        "\n",
        "m1 = Matrix([10, 20, 30])\n",
        "m2 = Matrix([20, 30, 40])\n",
        "\n",
        "m1 * 3\n",
        "m1 * [1, 2, 3]"
      ],
      "metadata": {
        "colab": {
          "base_uri": "https://localhost:8080/",
          "height": 349
        },
        "id": "Pj67QFR_gaPS",
        "outputId": "9a2dd445-a530-43d0-bd14-10817c24cfdf"
      },
      "execution_count": 35,
      "outputs": [
        {
          "output_type": "error",
          "ename": "TypeError",
          "evalue": "ignored",
          "traceback": [
            "\u001b[0;31m---------------------------------------------------------------------------\u001b[0m",
            "\u001b[0;31mTypeError\u001b[0m                                 Traceback (most recent call last)",
            "\u001b[0;32m<ipython-input-35-a123037f1803>\u001b[0m in \u001b[0;36m<cell line: 22>\u001b[0;34m()\u001b[0m\n\u001b[1;32m     20\u001b[0m \u001b[0;34m\u001b[0m\u001b[0m\n\u001b[1;32m     21\u001b[0m \u001b[0mm1\u001b[0m \u001b[0;34m*\u001b[0m \u001b[0;36m3\u001b[0m\u001b[0;34m\u001b[0m\u001b[0;34m\u001b[0m\u001b[0m\n\u001b[0;32m---> 22\u001b[0;31m \u001b[0mm1\u001b[0m \u001b[0;34m*\u001b[0m \u001b[0;34m[\u001b[0m\u001b[0;36m1\u001b[0m\u001b[0;34m,\u001b[0m \u001b[0;36m2\u001b[0m\u001b[0;34m,\u001b[0m \u001b[0;36m3\u001b[0m\u001b[0;34m]\u001b[0m\u001b[0;34m\u001b[0m\u001b[0;34m\u001b[0m\u001b[0m\n\u001b[0m",
            "\u001b[0;32m<ipython-input-35-a123037f1803>\u001b[0m in \u001b[0;36m__mul__\u001b[0;34m(self, other)\u001b[0m\n\u001b[1;32m     13\u001b[0m         \u001b[0;32mif\u001b[0m \u001b[0misinstance\u001b[0m\u001b[0;34m(\u001b[0m\u001b[0mother\u001b[0m\u001b[0;34m,\u001b[0m \u001b[0mint\u001b[0m\u001b[0;34m)\u001b[0m\u001b[0;34m:\u001b[0m\u001b[0;34m\u001b[0m\u001b[0;34m\u001b[0m\u001b[0m\n\u001b[1;32m     14\u001b[0m             \u001b[0;32mreturn\u001b[0m \u001b[0;34m[\u001b[0m\u001b[0mi\u001b[0m\u001b[0;34m*\u001b[0m\u001b[0mother\u001b[0m \u001b[0;32mfor\u001b[0m \u001b[0mi\u001b[0m \u001b[0;32min\u001b[0m \u001b[0mself\u001b[0m\u001b[0;34m.\u001b[0m\u001b[0mvalue\u001b[0m\u001b[0;34m]\u001b[0m\u001b[0;34m\u001b[0m\u001b[0;34m\u001b[0m\u001b[0m\n\u001b[0;32m---> 15\u001b[0;31m         \u001b[0;32mraise\u001b[0m \u001b[0mTypeError\u001b[0m\u001b[0;34m(\u001b[0m\u001b[0;34m'int형 외에 곱을 허락하지 않습니다!'\u001b[0m\u001b[0;34m)\u001b[0m\u001b[0;34m\u001b[0m\u001b[0;34m\u001b[0m\u001b[0m\n\u001b[0m\u001b[1;32m     16\u001b[0m \u001b[0;34m\u001b[0m\u001b[0m\n\u001b[1;32m     17\u001b[0m \u001b[0;34m\u001b[0m\u001b[0m\n",
            "\u001b[0;31mTypeError\u001b[0m: int형 외에 곱을 허락하지 않습니다!"
          ]
        }
      ]
    },
    {
      "cell_type": "code",
      "source": [
        "# 아래 기본 data를 기반으로 문제를 풀어주세요.\n",
        "data = [\n",
        "  {\n",
        "    \"_id\": \"fd7e9a0f-e77b-436a-B781-119b66033d49\",\n",
        "    \"index\": \"1\",\n",
        "    \"name\": \"나주헌\",\n",
        "    \"gender\": \"여성\",\n",
        "    \"age\": \"43\"\n",
        "  },\n",
        "  {\n",
        "    \"_id\": \"8ec6eabb-160a-41e4-A3de-cd33aff0b281\",\n",
        "    \"index\": \"2\",\n",
        "    \"name\": \"엄루다\",\n",
        "    \"gender\": \"남성\",\n",
        "    \"age\": \"22\"\n",
        "  },\n",
        "  {\n",
        "    \"_id\": \"bcf804f7-0452-4c31-B9d1-20cc2d38490b\",\n",
        "    \"index\": \"3\",\n",
        "    \"name\": \"형유환\",\n",
        "    \"gender\": \"남성\",\n",
        "    \"age\": \"31\"\n",
        "  }\n",
        "]\n",
        "# 문제 1 gender, age값을 추출해보세요. 아래 양식처럼 추출하시면 됩니다. 가능하면 map을 사용해주세요.\n",
        "'''\n",
        " [\n",
        "  {\n",
        "    \"gender\": \"여성\",\n",
        "    \"age\": \"43\"\n",
        "  },\n",
        "  {\n",
        "    \"gender\": \"남성\",\n",
        "    \"age\": \"22\"\n",
        "  },\n",
        "  {\n",
        "    \"gender\": \"남성\",\n",
        "    \"age\": \"31\"\n",
        "  }\n",
        "]\n",
        "'''\n",
        "\n",
        "# 문제 2 User라는 class를 만들어 해당 데이터를 관리해주세요. 아래처럼 저장되어야 합니다.\n",
        "# 다만 꼭 변수 이름이 user_1...user_n 일 필요는 없습니다.\n",
        "# 저장양식: '[user_1, user_2, user_3]'\n",
        "\n",
        "# 문제 3 BankAccount 클래스를 생성하세요. 이 클래스는 owner(계좌주 이름), balance(잔액) 속성을 가져야 합니다.\n",
        "# 이 클래스는 deposit(amount) (입금) 및 withdraw(amount) (출금) 메서드를 가져야 합니다.\n",
        "# 단, 출금 시 잔액보다 큰 금액을 출금하려고 하면 \"잔액 부족\" 메시지를 출력해야 합니다."
      ],
      "metadata": {
        "colab": {
          "base_uri": "https://localhost:8080/",
          "height": 35
        },
        "id": "tHlCRf77gkDW",
        "outputId": "b8b72bf4-82b7-4f76-b985-f17cc54a974d"
      },
      "execution_count": 36,
      "outputs": [
        {
          "output_type": "execute_result",
          "data": {
            "text/plain": [
              "'\\n [\\n  {\\n    \"gender\": \"여성\",\\n    \"age\": \"43\"\\n  },\\n  {\\n    \"gender\": \"남성\",\\n    \"age\": \"22\"\\n  },\\n  {\\n    \"gender\": \"남성\",\\n    \"age\": \"31\"\\n  }\\n]\\n'"
            ],
            "application/vnd.google.colaboratory.intrinsic+json": {
              "type": "string"
            }
          },
          "metadata": {},
          "execution_count": 36
        }
      ]
    },
    {
      "cell_type": "code",
      "source": [
        "# 문제 1\n",
        "\n",
        "l = list(map(lambda x:{\"gender\": x[\"gender\"], \"age\": x[\"age\"]} , data))\n",
        "print(l)"
      ],
      "metadata": {
        "colab": {
          "base_uri": "https://localhost:8080/"
        },
        "id": "2rc0h5PgmrGY",
        "outputId": "7f9176c0-afd9-4523-eb1c-7511ad7bfb05"
      },
      "execution_count": 43,
      "outputs": [
        {
          "output_type": "stream",
          "name": "stdout",
          "text": [
            "[{'gender': '여성', 'age': '43'}, {'gender': '남성', 'age': '22'}, {'gender': '남성', 'age': '31'}]\n"
          ]
        }
      ]
    },
    {
      "cell_type": "code",
      "source": [],
      "metadata": {
        "id": "5I_Ix7Nqoiq7"
      },
      "execution_count": null,
      "outputs": []
    },
    {
      "cell_type": "code",
      "source": [
        "# 문제2\n",
        "# User라는 class를 만들어 해당 데이터를 관리해주세요. 아래처럼 저장되어야 합니다.\n",
        "# 다만 꼭 변수 이름이 user_1...user_n 일 필요는 없습니다.\n",
        "# 저장양식: '[user_1, user_2, user_3]'\n",
        "\n",
        "class User:\n",
        "    def __init__(self, name, gender, age):\n",
        "        self.name = name\n",
        "        self.gender = gender\n",
        "        self.age = age\n",
        "\n",
        "\n",
        "users = [User(i['name'], i['gender'], i['age']) for i in data]\n",
        "print(users[0].name)"
      ],
      "metadata": {
        "colab": {
          "base_uri": "https://localhost:8080/"
        },
        "id": "Oc9qtCv2n_jA",
        "outputId": "04e4b4dc-972b-4007-cc70-9ede0a479a68"
      },
      "execution_count": 60,
      "outputs": [
        {
          "output_type": "stream",
          "name": "stdout",
          "text": [
            "나주헌\n"
          ]
        }
      ]
    },
    {
      "cell_type": "code",
      "source": [
        "# 문제 3 BankAccount 클래스를 생성하세요. 이 클래스는 owner(계좌주 이름), balance(잔액) 속성을 가져야 합니다.\n",
        "# 이 클래스는 deposit(amount) (입금) 및 withdraw(amount) (출금) 메서드를 가져야 합니다.\n",
        "# 단, 출금 시 잔액보다 큰 금액을 출금하려고 하면 \"잔액 부족\" 메시지를 출력해야 합니다.\n",
        "\n",
        "class BankAccount:\n",
        "    def __init__(self, owner, balance):\n",
        "        self.owner = owner\n",
        "        self.balance = balance\n",
        "\n",
        "    def hello(self):\n",
        "        print(f\"{self.owner}님, 안녕하십니까. 현재 계좌 잔액: {self.balance}\")\n",
        "\n",
        "    def deposit(self, amount):\n",
        "        self.balance += amount\n",
        "        print(f\"{amount}원이 입금되었습니다. {self.owner}님의 계좌 잔액: {self.balance}원\")\n",
        "\n",
        "    def withdraw(self, amount):\n",
        "        if amount <= self.balance:\n",
        "            self.balance -= amount\n",
        "            print(f\"{amount}원이 출금되었습니다. {self.owner}님의 계좌 잔액: {self.balance}원\")\n",
        "        else:\n",
        "            print(\"잔액 부족\")\n",
        "\n",
        "\n",
        "customer = [BankAccount(i['name'],0) for i in data]\n",
        "\n",
        "customer[0].hello()\n",
        "customer[0].deposit(1000)\n",
        "customer[0].withdraw(500)\n",
        "customer[0].withdraw(1000)\n"
      ],
      "metadata": {
        "colab": {
          "base_uri": "https://localhost:8080/"
        },
        "id": "s6aQLcm4xu4g",
        "outputId": "7a4f9a17-a90d-43d5-a682-2625e179a2ad"
      },
      "execution_count": 74,
      "outputs": [
        {
          "output_type": "stream",
          "name": "stdout",
          "text": [
            "잔액 부족\n"
          ]
        }
      ]
    },
    {
      "cell_type": "code",
      "source": [],
      "metadata": {
        "id": "CxWVRo4P0bcw"
      },
      "execution_count": null,
      "outputs": []
    },
    {
      "cell_type": "code",
      "source": [],
      "metadata": {
        "id": "45r1FwzO0ZIU"
      },
      "execution_count": null,
      "outputs": []
    },
    {
      "cell_type": "code",
      "source": [],
      "metadata": {
        "id": "_Bj4ly8g0XG7"
      },
      "execution_count": null,
      "outputs": []
    },
    {
      "cell_type": "code",
      "source": [],
      "metadata": {
        "id": "kjDwaB4C0Ppi"
      },
      "execution_count": null,
      "outputs": []
    },
    {
      "cell_type": "code",
      "source": [],
      "metadata": {
        "id": "Di_5BUxa0J6p"
      },
      "execution_count": null,
      "outputs": []
    },
    {
      "cell_type": "code",
      "source": [],
      "metadata": {
        "id": "I6ZWJvbq0HvS"
      },
      "execution_count": null,
      "outputs": []
    },
    {
      "cell_type": "code",
      "source": [],
      "metadata": {
        "id": "-kk4TuAW0DGX"
      },
      "execution_count": null,
      "outputs": []
    },
    {
      "cell_type": "code",
      "source": [],
      "metadata": {
        "id": "tfXrvJRmz7fT"
      },
      "execution_count": null,
      "outputs": []
    },
    {
      "cell_type": "code",
      "source": [],
      "metadata": {
        "id": "UZ7QFkRGz4ou"
      },
      "execution_count": null,
      "outputs": []
    },
    {
      "cell_type": "code",
      "source": [],
      "metadata": {
        "id": "5GUE3Wlzz3Bm"
      },
      "execution_count": null,
      "outputs": []
    },
    {
      "cell_type": "code",
      "source": [],
      "metadata": {
        "id": "SmUEaRi6zwBW"
      },
      "execution_count": null,
      "outputs": []
    },
    {
      "cell_type": "code",
      "source": [],
      "metadata": {
        "id": "_Njmb3NbzsGk"
      },
      "execution_count": null,
      "outputs": []
    },
    {
      "cell_type": "code",
      "source": [],
      "metadata": {
        "id": "fuaoxgfSzo7_"
      },
      "execution_count": null,
      "outputs": []
    },
    {
      "cell_type": "code",
      "source": [],
      "metadata": {
        "id": "1l6xlVUFzk_Z"
      },
      "execution_count": null,
      "outputs": []
    },
    {
      "cell_type": "code",
      "source": [],
      "metadata": {
        "id": "Znjndje6xuBk"
      },
      "execution_count": null,
      "outputs": []
    },
    {
      "cell_type": "code",
      "source": [],
      "metadata": {
        "id": "jp0m3T5yxspD"
      },
      "execution_count": null,
      "outputs": []
    },
    {
      "cell_type": "code",
      "source": [],
      "metadata": {
        "id": "XxFTKNYdxq8M"
      },
      "execution_count": null,
      "outputs": []
    },
    {
      "cell_type": "code",
      "source": [],
      "metadata": {
        "id": "zfqDT1kAxpEJ"
      },
      "execution_count": null,
      "outputs": []
    },
    {
      "cell_type": "code",
      "source": [],
      "metadata": {
        "id": "S64DsW6IxeiF"
      },
      "execution_count": null,
      "outputs": []
    },
    {
      "cell_type": "code",
      "source": [],
      "metadata": {
        "id": "hcQNmPFbxYym"
      },
      "execution_count": null,
      "outputs": []
    },
    {
      "cell_type": "code",
      "source": [],
      "metadata": {
        "id": "6GfsOT2ixGQx"
      },
      "execution_count": null,
      "outputs": []
    },
    {
      "cell_type": "code",
      "source": [],
      "metadata": {
        "id": "VO8uIjg8xD56"
      },
      "execution_count": null,
      "outputs": []
    },
    {
      "cell_type": "code",
      "source": [],
      "metadata": {
        "id": "tosfW12OwIsv"
      },
      "execution_count": null,
      "outputs": []
    },
    {
      "cell_type": "code",
      "source": [],
      "metadata": {
        "id": "bWIo0qVFvC15"
      },
      "execution_count": null,
      "outputs": []
    },
    {
      "cell_type": "code",
      "source": [],
      "metadata": {
        "id": "L4ww5NMbu-bt"
      },
      "execution_count": null,
      "outputs": []
    },
    {
      "cell_type": "code",
      "source": [],
      "metadata": {
        "id": "j633uGVGpa3z"
      },
      "execution_count": null,
      "outputs": []
    },
    {
      "cell_type": "code",
      "source": [],
      "metadata": {
        "id": "OSH3vGAlpPe0"
      },
      "execution_count": null,
      "outputs": []
    },
    {
      "cell_type": "code",
      "source": [],
      "metadata": {
        "id": "l-76xd5RpNVf"
      },
      "execution_count": null,
      "outputs": []
    },
    {
      "cell_type": "code",
      "source": [],
      "metadata": {
        "id": "6hpHr3YWpMNY"
      },
      "execution_count": null,
      "outputs": []
    },
    {
      "cell_type": "code",
      "source": [],
      "metadata": {
        "id": "xPz70OYHo615"
      },
      "execution_count": null,
      "outputs": []
    },
    {
      "cell_type": "code",
      "source": [],
      "metadata": {
        "id": "wI-Fj6-mn7qg"
      },
      "execution_count": null,
      "outputs": []
    },
    {
      "cell_type": "code",
      "source": [],
      "metadata": {
        "id": "iUoV5mt1n3wb"
      },
      "execution_count": null,
      "outputs": []
    },
    {
      "cell_type": "code",
      "source": [],
      "metadata": {
        "id": "duZHu8PEnlIY"
      },
      "execution_count": null,
      "outputs": []
    },
    {
      "cell_type": "code",
      "source": [],
      "metadata": {
        "id": "MeEtbuTonjyY"
      },
      "execution_count": null,
      "outputs": []
    },
    {
      "cell_type": "code",
      "source": [],
      "metadata": {
        "id": "dibLq9u8nY0R"
      },
      "execution_count": null,
      "outputs": []
    },
    {
      "cell_type": "code",
      "source": [],
      "metadata": {
        "id": "7x5bOM-sa5yn"
      },
      "execution_count": null,
      "outputs": []
    },
    {
      "cell_type": "code",
      "source": [],
      "metadata": {
        "id": "uaPBCmS4aylf"
      },
      "execution_count": null,
      "outputs": []
    },
    {
      "cell_type": "code",
      "source": [],
      "metadata": {
        "id": "ciwOqk42avzv"
      },
      "execution_count": null,
      "outputs": []
    },
    {
      "cell_type": "code",
      "source": [],
      "metadata": {
        "id": "mduJ3ROuasFz"
      },
      "execution_count": null,
      "outputs": []
    },
    {
      "cell_type": "code",
      "source": [],
      "metadata": {
        "id": "gESCTtTyaJ3d"
      },
      "execution_count": null,
      "outputs": []
    },
    {
      "cell_type": "code",
      "source": [],
      "metadata": {
        "id": "IEULHW2XZoH7"
      },
      "execution_count": null,
      "outputs": []
    },
    {
      "cell_type": "code",
      "source": [],
      "metadata": {
        "id": "Az8uk4t1WTxq"
      },
      "execution_count": null,
      "outputs": []
    },
    {
      "cell_type": "code",
      "source": [],
      "metadata": {
        "id": "0D95DHVmVO6_"
      },
      "execution_count": null,
      "outputs": []
    },
    {
      "cell_type": "code",
      "source": [],
      "metadata": {
        "id": "0jOk96VzVEjP"
      },
      "execution_count": null,
      "outputs": []
    },
    {
      "cell_type": "code",
      "source": [],
      "metadata": {
        "id": "l8821HhMOibt"
      },
      "execution_count": null,
      "outputs": []
    },
    {
      "cell_type": "code",
      "source": [],
      "metadata": {
        "id": "ByCoygiTNw6D"
      },
      "execution_count": null,
      "outputs": []
    },
    {
      "cell_type": "code",
      "source": [],
      "metadata": {
        "id": "fvVLNtjeNvZB"
      },
      "execution_count": null,
      "outputs": []
    },
    {
      "cell_type": "code",
      "source": [],
      "metadata": {
        "id": "XPbfRO3PNHz0"
      },
      "execution_count": null,
      "outputs": []
    },
    {
      "cell_type": "code",
      "source": [],
      "metadata": {
        "id": "tW4mL24DNDZV"
      },
      "execution_count": null,
      "outputs": []
    }
  ]
}